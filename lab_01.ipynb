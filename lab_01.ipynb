{
 "cells": [
  {
   "cell_type": "markdown",
   "metadata": {},
   "source": [
    "## **Распределительная задача**"
   ]
  },
  {
   "cell_type": "markdown",
   "metadata": {},
   "source": [
    "Завод может производить Y = 25 видов продукции. На продукцию есть покупатель, которому требуется определенное количество каждого вида:\n",
    "\n",
    "Таблица M (кг): M = [52 37 65 64 66 66 62 49 33 54 49 67 60 68 69 35 45 53 62 40 32 54 64 60 47]\n",
    "\n",
    "Для каждого вида продукции он либо покупает требуемое количество, либо не покупает совсем, если мы произвели недостаточно. При этом известна цена контракта на каждый вид продукции:\n",
    "\n",
    "Таблица C (рубли): C = [656 672 675 665 512 620 451 538 523 670 591 421 574 531 608 454 471 414 605 543 612 514 638 444 437]\n",
    "\n",
    "Завод одновременно может выпускать только один вид продукции со скоростью:\n",
    "\n",
    "Таблица P (кг в сутки): P = [19 15 27 19 29 16 22 18 16 27 21 21 24 25 28 21 24 21 15 15 17 29 27 24 21]\n",
    "\n",
    "Требуется написать математическую модель и найти оптимальный план производства на S = 20 суток с помощью Gurobi, если известно, что переход от одной продукции к другой происходит мгновенно, а его стоимость R = 49 рублей.\n"
   ]
  },
  {
   "cell_type": "markdown",
   "metadata": {},
   "source": [
    "#### Запишем математическую модель:"
   ]
  },
  {
   "cell_type": "markdown",
   "metadata": {},
   "source": [
    "Введём переменные:\n",
    "\n",
    "$$x_{i} = \\begin{cases}\n",
    "   1,&\\text{если заключаем контракт с } i &\\text{заводом,}\\\\\n",
    "   0,&\\text{в противном случае.}\n",
    "\\end{cases}$$\n",
    "\n",
    "Целевая функция:\n",
    "\n",
    "$$\\sum\\limits_{i = 0}^{Y} (c_i - R)x_i + R\\to \\max_{x}$$\n",
    "\n",
    "Ограничения:\n",
    "\n",
    "$$x_i \\in \\mathbb B, \\forall i \\in Y $$\n",
    "\n",
    "$$\\sum\\limits_{i = 0}^{Y} x_i \\lceil m_i/p_i \\rceil \\leqslant S $$"
   ]
  },
  {
   "cell_type": "code",
   "execution_count": 108,
   "metadata": {},
   "outputs": [],
   "source": [
    "import gurobipy as gb\n",
    "from gurobipy import GRB\n",
    "import numpy as np"
   ]
  },
  {
   "cell_type": "code",
   "execution_count": 109,
   "metadata": {},
   "outputs": [],
   "source": [
    "Y = 25\n",
    "S = 20\n",
    "R = 49\n",
    "\n",
    "M = np.array([52, 37, 65, 64, 66, 66, 62, 49, 33, 54, 49, 67, 60, 68, 69, 35, 45, 53, 62, 40, 32, 54, 64, 60, 47])\n",
    "C = np.array([656, 672, 675, 665, 512, 620, 451, 538, 523, 670, 591, 421, 574, 531, 608, 454, 471, 414, 605, 543, 612, 514, 638, 444, 437])\n",
    "P = np.array([19, 15, 27, 19, 29, 16, 22, 18, 16, 27, 21, 21, 24, 25, 28, 21, 24, 21, 15, 15, 17, 29, 27, 24, 21])"
   ]
  },
  {
   "cell_type": "code",
   "execution_count": 110,
   "metadata": {},
   "outputs": [],
   "source": [
    "problem = gb.Model('Distribution_problem')"
   ]
  },
  {
   "cell_type": "code",
   "execution_count": 111,
   "metadata": {},
   "outputs": [],
   "source": [
    "factory = problem.addVars(range(0, Y), vtype=gb.GRB.BINARY, name='factory')\n",
    "\n",
    "obj = gb.LinExpr(C - R, factory.values()) + R\n",
    "problem.setObjective(obj, gb.GRB.MAXIMIZE)\n",
    "problem.addConstr(gb.LinExpr(np.ceil(M / P), factory.values()) <= S)\n",
    "\n",
    "problem.update()\n"
   ]
  },
  {
   "cell_type": "code",
   "execution_count": 112,
   "metadata": {},
   "outputs": [
    {
     "name": "stdout",
     "output_type": "stream",
     "text": [
      "Gurobi Optimizer version 10.0.0 build v10.0.0rc2 (mac64[x86])\n",
      "\n",
      "CPU model: Intel(R) Core(TM) i5-4278U CPU @ 2.60GHz\n",
      "Thread count: 2 physical cores, 4 logical processors, using up to 4 threads\n",
      "\n",
      "Optimize a model with 1 rows, 25 columns and 25 nonzeros\n",
      "Model fingerprint: 0x32e5df54\n",
      "Variable types: 0 continuous, 25 integer (25 binary)\n",
      "Coefficient statistics:\n",
      "  Matrix range     [2e+00, 5e+00]\n",
      "  Objective range  [4e+02, 6e+02]\n",
      "  Bounds range     [1e+00, 1e+00]\n",
      "  RHS range        [2e+01, 2e+01]\n",
      "Found heuristic solution: objective 3386.0000000\n",
      "Presolve removed 1 rows and 25 columns\n",
      "Presolve time: 0.00s\n",
      "Presolve: All rows and columns removed\n",
      "\n",
      "Explored 0 nodes (0 simplex iterations) in 0.03 seconds (0.00 work units)\n",
      "Thread count was 1 (of 4 available processors)\n",
      "\n",
      "Solution count 2: 4565 3386 \n",
      "\n",
      "Optimal solution found (tolerance 1.00e-04)\n",
      "Best objective 4.565000000000e+03, best bound 4.565000000000e+03, gap 0.0000%\n"
     ]
    }
   ],
   "source": [
    "problem.optimize()"
   ]
  },
  {
   "cell_type": "code",
   "execution_count": 113,
   "metadata": {},
   "outputs": [
    {
     "name": "stdout",
     "output_type": "stream",
     "text": [
      "Заключили контракт c заводами: [1, 2, 3, 10, 17, 21, 22, 23]\n",
      "Максимальная прибыль: 4565.0\n"
     ]
    }
   ],
   "source": [
    "print(f'Заключили контракт c заводами: {[var.index + 1 for var in problem.getVars() if var.X]}')\n",
    "print(f'Максимальная прибыль: {problem.objVal}')"
   ]
  },
  {
   "cell_type": "markdown",
   "metadata": {},
   "source": [
    "#### **Вопрос 1**\n",
    "\n",
    "Ваш завод не получал новое оборудование с 80-х годов, поэтому оборудование становится непригодным каждый третий сделанный товар. На починку уходит 150. Найти оптимальный план на S суток."
   ]
  },
  {
   "cell_type": "code",
   "execution_count": 114,
   "metadata": {},
   "outputs": [],
   "source": [
    "W = 150"
   ]
  },
  {
   "cell_type": "code",
   "execution_count": 115,
   "metadata": {},
   "outputs": [],
   "source": [
    "problem = gb.Model('Broken_distribution_problem')"
   ]
  },
  {
   "cell_type": "code",
   "execution_count": 116,
   "metadata": {},
   "outputs": [],
   "source": [
    "factory = problem.addVars(range(0, Y), vtype=gb.GRB.BINARY, name='factory')\n",
    "\n",
    "obj = gb.LinExpr(C - R - W * (np.ceil(M / P) // 3), factory.values()) + R\n",
    "problem.setObjective(obj, gb.GRB.MAXIMIZE)\n",
    "problem.addConstr(gb.LinExpr(np.ceil(M / P), factory.values()) <= S)\n",
    "\n",
    "problem.update()\n"
   ]
  },
  {
   "cell_type": "code",
   "execution_count": 117,
   "metadata": {},
   "outputs": [
    {
     "name": "stdout",
     "output_type": "stream",
     "text": [
      "Gurobi Optimizer version 10.0.0 build v10.0.0rc2 (mac64[x86])\n",
      "\n",
      "CPU model: Intel(R) Core(TM) i5-4278U CPU @ 2.60GHz\n",
      "Thread count: 2 physical cores, 4 logical processors, using up to 4 threads\n",
      "\n",
      "Optimize a model with 1 rows, 25 columns and 25 nonzeros\n",
      "Model fingerprint: 0x143b98c4\n",
      "Variable types: 0 continuous, 25 integer (25 binary)\n",
      "Coefficient statistics:\n",
      "  Matrix range     [2e+00, 5e+00]\n",
      "  Objective range  [2e+02, 6e+02]\n",
      "  Bounds range     [1e+00, 1e+00]\n",
      "  RHS range        [2e+01, 2e+01]\n",
      "Found heuristic solution: objective 2486.0000000\n",
      "Presolve removed 1 rows and 25 columns\n",
      "Presolve time: 0.00s\n",
      "Presolve: All rows and columns removed\n",
      "\n",
      "Explored 0 nodes (0 simplex iterations) in 0.04 seconds (0.00 work units)\n",
      "Thread count was 1 (of 4 available processors)\n",
      "\n",
      "Solution count 2: 3965 2486 \n",
      "\n",
      "Optimal solution found (tolerance 1.00e-04)\n",
      "Best objective 3.965000000000e+03, best bound 3.965000000000e+03, gap 0.0000%\n"
     ]
    }
   ],
   "source": [
    "problem.optimize()"
   ]
  },
  {
   "cell_type": "code",
   "execution_count": 118,
   "metadata": {},
   "outputs": [
    {
     "name": "stdout",
     "output_type": "stream",
     "text": [
      "Заключили контракт c заводами: [1, 2, 3, 10, 17, 21, 22, 23]\n",
      "Максимальная прибыль: 3965.0\n"
     ]
    }
   ],
   "source": [
    "print(f'Заключили контракт c заводами: {[var.index + 1 for var in problem.getVars() if var.X]}')\n",
    "print(f'Максимальная прибыль: {problem.objVal}')"
   ]
  },
  {
   "cell_type": "markdown",
   "metadata": {},
   "source": [
    "#### **Вопрос 2**\n",
    "\n",
    "Сгенерировать 6 пар связанных контрактов, без выполнения первого в которых нельзя выполнить второй. Причём, второй элемент в паре должен быть из рекомендованных, а первый - наоборот."
   ]
  },
  {
   "cell_type": "code",
   "execution_count": 119,
   "metadata": {},
   "outputs": [],
   "source": [
    "connections = np.array([(1, 4), (2, 5), (3, 6), (10, 7), (17, 8), (21, 9)])\n"
   ]
  },
  {
   "cell_type": "code",
   "execution_count": 120,
   "metadata": {},
   "outputs": [],
   "source": [
    "problem = gb.Model('Pair_distribution_problem')"
   ]
  },
  {
   "cell_type": "code",
   "execution_count": 121,
   "metadata": {},
   "outputs": [],
   "source": [
    "factory = problem.addVars(range(0, Y), vtype=gb.GRB.BINARY, name='factory')\n",
    "\n",
    "obj = gb.LinExpr(C - R, factory.values()) + R\n",
    "problem.setObjective(obj, gb.GRB.MAXIMIZE)\n",
    "problem.addConstr(gb.LinExpr(np.ceil(M / P), factory.values()) <= S)\n",
    "\n",
    "for i, j in connections:\n",
    "    problem.addConstr((factory[i] == 1) >> (factory[j] == 1))\n",
    "\n",
    "problem.update()\n"
   ]
  },
  {
   "cell_type": "code",
   "execution_count": 122,
   "metadata": {},
   "outputs": [
    {
     "name": "stdout",
     "output_type": "stream",
     "text": [
      "Gurobi Optimizer version 10.0.0 build v10.0.0rc2 (mac64[x86])\n",
      "\n",
      "CPU model: Intel(R) Core(TM) i5-4278U CPU @ 2.60GHz\n",
      "Thread count: 2 physical cores, 4 logical processors, using up to 4 threads\n",
      "\n",
      "Optimize a model with 1 rows, 25 columns and 25 nonzeros\n",
      "Model fingerprint: 0x981d092a\n",
      "Model has 6 general constraints\n",
      "Variable types: 0 continuous, 25 integer (25 binary)\n",
      "Coefficient statistics:\n",
      "  Matrix range     [2e+00, 5e+00]\n",
      "  Objective range  [4e+02, 6e+02]\n",
      "  Bounds range     [1e+00, 1e+00]\n",
      "  RHS range        [2e+01, 2e+01]\n",
      "  GenCon rhs range [1e+00, 1e+00]\n",
      "  GenCon coe range [1e+00, 1e+00]\n",
      "Found heuristic solution: objective 49.0000000\n",
      "Presolve added 6 rows and 0 columns\n",
      "Presolve time: 0.00s\n",
      "Presolved: 7 rows, 25 columns, 37 nonzeros\n",
      "Found heuristic solution: objective 4074.0000000\n",
      "Variable types: 0 continuous, 25 integer (25 binary)\n",
      "\n",
      "Root relaxation: objective 4.461000e+03, 4 iterations, 0.00 seconds (0.00 work units)\n",
      "\n",
      "    Nodes    |    Current Node    |     Objective Bounds      |     Work\n",
      " Expl Unexpl |  Obj  Depth IntInf | Incumbent    BestBd   Gap | It/Node Time\n",
      "\n",
      "     0     0 4461.00000    0    2 4074.00000 4461.00000  9.50%     -    0s\n",
      "H    0     0                    4383.0000000 4461.00000  1.78%     -    0s\n",
      "H    0     0                    4400.0000000 4461.00000  1.39%     -    0s\n",
      "*    0     0               0    4402.0000000 4402.00000  0.00%     -    0s\n",
      "\n",
      "Cutting planes:\n",
      "  Cover: 1\n",
      "  GUB cover: 1\n",
      "  RLT: 1\n",
      "\n",
      "Explored 1 nodes (6 simplex iterations) in 0.08 seconds (0.00 work units)\n",
      "Thread count was 4 (of 4 available processors)\n",
      "\n",
      "Solution count 5: 4402 4400 4383 ... 49\n",
      "\n",
      "Optimal solution found (tolerance 1.00e-04)\n",
      "Best objective 4.402000000000e+03, best bound 4.402000000000e+03, gap 0.0000%\n"
     ]
    }
   ],
   "source": [
    "problem.optimize()"
   ]
  },
  {
   "cell_type": "code",
   "execution_count": 123,
   "metadata": {},
   "outputs": [
    {
     "name": "stdout",
     "output_type": "stream",
     "text": [
      "Заключили контракт c заводами: [1, 2, 5, 10, 17, 21, 22, 23]\n",
      "Максимальная прибыль: 4402.0\n"
     ]
    }
   ],
   "source": [
    "print(f'Заключили контракт c заводами: {[var.index + 1 for var in problem.getVars() if var.X]}')\n",
    "print(f'Максимальная прибыль: {problem.objVal}')"
   ]
  }
 ],
 "metadata": {
  "kernelspec": {
   "display_name": "Python 3.10.2 64-bit",
   "language": "python",
   "name": "python3"
  },
  "language_info": {
   "codemirror_mode": {
    "name": "ipython",
    "version": 3
   },
   "file_extension": ".py",
   "mimetype": "text/x-python",
   "name": "python",
   "nbconvert_exporter": "python",
   "pygments_lexer": "ipython3",
   "version": "3.10.2"
  },
  "orig_nbformat": 4,
  "vscode": {
   "interpreter": {
    "hash": "aee8b7b246df8f9039afb4144a1f6fd8d2ca17a180786b69acc140d282b71a49"
   }
  }
 },
 "nbformat": 4,
 "nbformat_minor": 2
}
