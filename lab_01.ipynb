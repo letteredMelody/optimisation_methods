{
 "cells": [
  {
   "cell_type": "markdown",
   "metadata": {},
   "source": [
    "## **Распределительная задача**"
   ]
  },
  {
   "cell_type": "markdown",
   "metadata": {},
   "source": [
    "Завод может производить Y = 25 видов продукции. На продукцию есть покупатель, которому требуется определенное количество каждого вида:\n",
    "\n",
    "Таблица M (кг): M = [52 37 65 64 66 66 62 49 33 54 49 67 60 68 69 35 45 53 62 40 32 54 64 60 47]\n",
    "\n",
    "Для каждого вида продукции он либо покупает требуемое количество, либо не покупает совсем, если мы произвели недостаточно. При этом известна цена контракта на каждый вид продукции:\n",
    "\n",
    "Таблица C (рубли): C = [656 672 675 665 512 620 451 538 523 670 591 421 574 531 608 454 471 414 605 543 612 514 638 444 437]\n",
    "\n",
    "Завод одновременно может выпускать только один вид продукции со скоростью:\n",
    "\n",
    "Таблица P (кг в сутки): P = [19 15 27 19 29 16 22 18 16 27 21 21 24 25 28 21 24 21 15 15 17 29 27 24 21]\n",
    "\n",
    "Требуется написать математическую модель и найти оптимальный план производства на S = 20 суток с помощью Gurobi, если известно, что переход от одной продукции к другой происходит мгновенно, а его стоимость R = 49 рублей.\n"
   ]
  },
  {
   "cell_type": "markdown",
   "metadata": {},
   "source": [
    "#### Запишем математическую модель:"
   ]
  },
  {
   "cell_type": "markdown",
   "metadata": {},
   "source": [
    "Введём переменные:\n",
    "\n",
    "$$x_{i} = \\begin{cases}\n",
    "   1,&\\text{если заключаем контракт с } i &\\text{заводом,}\\\\\n",
    "   0,&\\text{в противном случае.}\n",
    "\\end{cases}$$\n",
    "\n",
    "Целевая функция:\n",
    "\n",
    "$$\\sum\\limits_{i = 0}^{Y} (c_i - R)x_i + R\\to \\max_{x}$$\n",
    "\n",
    "Ограничения:\n",
    "\n",
    "$$x_i \\in \\mathbb B, \\forall i \\in Y $$\n",
    "\n",
    "$$\\sum\\limits_{i = 0}^{Y} x_i \\lceil m_i/p_i \\rceil \\leqslant S $$"
   ]
  },
  {
   "cell_type": "code",
   "execution_count": 14,
   "metadata": {},
   "outputs": [],
   "source": [
    "import gurobipy as gb\n",
    "from gurobipy import GRB\n",
    "import numpy as np"
   ]
  },
  {
   "cell_type": "code",
   "execution_count": 15,
   "metadata": {},
   "outputs": [],
   "source": [
    "Y = 25\n",
    "S = 20\n",
    "R = 49\n",
    "\n",
    "M = np.array([52, 37, 65, 64, 66, 66, 62, 49, 33, 54, 49, 67, 60, 68, 69, 35, 45, 53, 62, 40, 32, 54, 64, 60, 47])\n",
    "C = np.array([656, 672, 675, 665, 512, 620, 451, 538, 523, 670, 591, 421, 574, 531, 608, 454, 471, 414, 605, 543, 612, 514, 638, 444, 437])\n",
    "P = np.array([19, 15, 27, 19, 29, 16, 22, 18, 16, 27, 21, 21, 24, 25, 28, 21, 24, 21, 15, 15, 17, 29, 27, 24, 21])"
   ]
  },
  {
   "cell_type": "code",
   "execution_count": 16,
   "metadata": {},
   "outputs": [],
   "source": [
    "problem = gb.Model('Distribution_problem')"
   ]
  },
  {
   "cell_type": "code",
   "execution_count": 17,
   "metadata": {},
   "outputs": [],
   "source": [
    "factory = problem.addVars(range(0, Y), vtype=gb.GRB.BINARY, name='factory')\n",
    "\n",
    "obj = gb.LinExpr(C - R, factory.values()) + R\n",
    "problem.setObjective(obj, gb.GRB.MAXIMIZE)\n",
    "problem.addConstr(gb.LinExpr(np.ceil(M / P), factory.values()) <= S)\n",
    "\n",
    "problem.update()\n"
   ]
  },
  {
   "cell_type": "code",
   "execution_count": 18,
   "metadata": {},
   "outputs": [
    {
     "name": "stdout",
     "output_type": "stream",
     "text": [
      "Gurobi Optimizer version 10.0.0 build v10.0.0rc2 (mac64[x86])\n",
      "\n",
      "CPU model: Intel(R) Core(TM) i5-4278U CPU @ 2.60GHz\n",
      "Thread count: 2 physical cores, 4 logical processors, using up to 4 threads\n",
      "\n",
      "Optimize a model with 1 rows, 25 columns and 25 nonzeros\n",
      "Model fingerprint: 0x32e5df54\n",
      "Variable types: 0 continuous, 25 integer (25 binary)\n",
      "Coefficient statistics:\n",
      "  Matrix range     [2e+00, 5e+00]\n",
      "  Objective range  [4e+02, 6e+02]\n",
      "  Bounds range     [1e+00, 1e+00]\n",
      "  RHS range        [2e+01, 2e+01]\n",
      "Found heuristic solution: objective 3386.0000000\n",
      "Presolve removed 1 rows and 25 columns\n",
      "Presolve time: 0.00s\n",
      "Presolve: All rows and columns removed\n",
      "\n",
      "Explored 0 nodes (0 simplex iterations) in 0.03 seconds (0.00 work units)\n",
      "Thread count was 1 (of 4 available processors)\n",
      "\n",
      "Solution count 2: 4565 3386 \n",
      "\n",
      "Optimal solution found (tolerance 1.00e-04)\n",
      "Best objective 4.565000000000e+03, best bound 4.565000000000e+03, gap 0.0000%\n"
     ]
    }
   ],
   "source": [
    "problem.optimize()"
   ]
  },
  {
   "cell_type": "code",
   "execution_count": 45,
   "metadata": {},
   "outputs": [
    {
     "name": "stdout",
     "output_type": "stream",
     "text": [
      "Заключили контракт c заводами: [1, 2, 3, 10, 17, 21, 22, 23]\n",
      "Максимальная прибыль: 4565.0\n"
     ]
    }
   ],
   "source": [
    "print(f'Заключили контракт c заводами: {[var.index + 1 for var in problem.getVars() if var.X]}')\n",
    "print(f'Максимальная прибыль: {problem.objVal}')"
   ]
  }
 ],
 "metadata": {
  "kernelspec": {
   "display_name": "Python 3.10.2 64-bit",
   "language": "python",
   "name": "python3"
  },
  "language_info": {
   "codemirror_mode": {
    "name": "ipython",
    "version": 3
   },
   "file_extension": ".py",
   "mimetype": "text/x-python",
   "name": "python",
   "nbconvert_exporter": "python",
   "pygments_lexer": "ipython3",
   "version": "3.10.2"
  },
  "orig_nbformat": 4,
  "vscode": {
   "interpreter": {
    "hash": "aee8b7b246df8f9039afb4144a1f6fd8d2ca17a180786b69acc140d282b71a49"
   }
  }
 },
 "nbformat": 4,
 "nbformat_minor": 2
}
