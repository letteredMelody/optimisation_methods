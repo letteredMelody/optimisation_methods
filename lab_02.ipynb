{
 "cells": [
  {
   "cell_type": "markdown",
   "metadata": {},
   "source": [
    "## **Управление предприятием по переработке руды** ##"
   ]
  },
  {
   "cell_type": "markdown",
   "metadata": {},
   "source": [
    "Перерабатываются два вида руды: А и В. Предприятию может быть поставлено в день до 100 тыс. тонн руды вида А по цене 3.25 руб./т. и до 30 тыс. тонн руды вида В более по цене 3.40 руб./т.  Общая мощность основного процесса переработки равна 100 тыс. тонн руды в день при затратах на переработку 0.35 руб./т. \n",
    "\n",
    "Основной процесс обработки позволяет получать \n",
    "из каждой тонны руды вида А 0.15 т продукта I и 0.85 т продукта II,  \n",
    "из каждой тонны руды вида В – 0.25 т продукта I и 0.75 т продукта II. \n",
    "Продукт I более ценный, и агрегат, называемый конвертером, способен из каждой тонны продукта II получить 0.5 т продукта I и 0.5 т продукта II, который нельзя повторно перерабатывать конвертером. Мощность конвертера – 50 тыс. тонн сырья в день при затратах на конвертерную обработку 0.25 руб./т сырья. \n",
    "Затраты на фильтрацию продукта I , производимую после основного процесса обработки, равны 0.10 руб./т сырья. Затраты на упаковку продукта I 0.15 руб./т сырья.\n",
    "\n",
    "Условия реализации продукции следующие. Вся продукция идет на продажу.\n",
    "Продукт II может быть реализован в неограниченном количестве по цене 3.80 руб./т. Продукт I  продается по цене 5.50 руб./т, и его можно продать по этой цене до 45 тыс. т/день. Кроме того, можно продать до 4 тыс. тонн в день по цене 5.2 руб./т и неограниченное количество продукта по заниженной цене 5.0 руб./т.\n",
    "Существует контракт, согласно которому требуется поставлять потребителям не менее 40 тыс. тонн продукта I в день. Оба продукта можно при необходимости докупить: закупочная цена продукта I равна 5.75 руб./т, закупочная цена продукта II - 4.00 руб./т.\n",
    "\n",
    "Ввести переменные, построить математическую модель и \n",
    "* найти план выпуска продукции с максимальной прибылью;\n",
    "* найти минимальную цену на продукт I, при которой прибыль предприятия будет не меньше 50 тыс. руб./день;\n",
    "* как изменится оптимальный план, если мощность фильтра ограничена величиной 10 тыс. тонн?\n",
    "* как изменится оптимальный план производства, если фильтр выйдет из строя, и продукт I можно будет продавать только по цене 5 руб./т.?"
   ]
  },
  {
   "cell_type": "markdown",
   "metadata": {},
   "source": [
    "![image.png](scheme.png)"
   ]
  },
  {
   "cell_type": "markdown",
   "metadata": {},
   "source": [
    "#### Запишем математическую модель:"
   ]
  },
  {
   "cell_type": "markdown",
   "metadata": {},
   "source": [
    "Введём переменные:\n",
    "\n",
    "$II$ - продано тонн продукта II  \n",
    "$I_в$ - продано тонн продукта I по завышенной цене  \n",
    "$I_{ср}$ - продано тонн продукта I по обычной цене  \n",
    "$I_н$ - продано тонн продукта I по заниженной цене  \n",
    "$a$ - поставлено тонн руды А за день  \n",
    "$b$ - оставлено тонн руды В за день  \n",
    "$II_{кон}$ - отправлено тонн продукта II на конвейер  \n",
    "$I_{доп}$ - докупили продукта I для контракта  \n",
    "$II_{доп}$ - докупили продукта II для контракта    \n",
    "\n",
    "Целевая функция:\n",
    "\n",
    "$$(II * 3.8 + I_в * 5.5 + I_{ср} * 5.2 + I_н * 5) - (a * 3.25 + b * 3.4 + 0.35 * (a + b) + II_{кон} * 0.25 + 0.1 * (0.25 * b + 0.15 * a) + 0.15 * (0.5 * II_{кон} + 0.25 * b + 0.15 * a) + I_{доп} * 5.75 + II_{доп} * 4) \\to \\max$$\n",
    "\n",
    "Ограничения:\n",
    "\n",
    "$$a + b \\leq 100000$$\n",
    "$$II_{кон} \\leq 50000$$\n",
    "$$I_в + I_{ср} + I_н \\geq 40000$$\n",
    "$$I_в + I_{ср} + I_н = 0.15 * a + 0.25 * b + 0.5 * II_{кон} + I_{доп}$$\n",
    "$$II = 0.85 * a + 0.75 * b - 0.5 * II_{кон} + II_{доп}$$"
   ]
  },
  {
   "cell_type": "code",
   "execution_count": 194,
   "metadata": {},
   "outputs": [],
   "source": [
    "import gurobipy as gb      \n",
    "import numpy as np"
   ]
  },
  {
   "cell_type": "markdown",
   "metadata": {},
   "source": [
    "#### **1. Найти план выпуска продукции с максимальной прибылью**"
   ]
  },
  {
   "cell_type": "code",
   "execution_count": 195,
   "metadata": {},
   "outputs": [],
   "source": [
    "first_problem = gb.Model('first_problem')"
   ]
  },
  {
   "cell_type": "code",
   "execution_count": 196,
   "metadata": {},
   "outputs": [],
   "source": [
    "II = first_problem.addVar(vtype=gb.GRB.INTEGER, lb=0.0, ub=gb.GRB.INFINITY, name='II')\n",
    "I_h = first_problem.addVar(vtype=gb.GRB.INTEGER, lb=0.0, ub=45000, name='I_h')\n",
    "I_m = first_problem.addVar(vtype=gb.GRB.INTEGER, lb=0.0, ub=4000, name='I_m')\n",
    "I_l = first_problem.addVar(vtype=gb.GRB.INTEGER, lb=0.0, ub=gb.GRB.INFINITY, name='I_l')\n",
    "a = first_problem.addVar(vtype=gb.GRB.INTEGER, lb=0.0, ub=100000, name='a')\n",
    "b = first_problem.addVar(vtype=gb.GRB.INTEGER, lb=0.0, ub=30000, name='b')\n",
    "II_con = first_problem.addVar(vtype=gb.GRB.INTEGER, lb=0.0, ub=50000, name='II_con')\n",
    "I_ex = first_problem.addVar(vtype=gb.GRB.INTEGER, lb=0.0, ub=gb.GRB.INFINITY, name='I_ex')\n",
    "II_ex = first_problem.addVar(vtype=gb.GRB.INTEGER, lb=0.0, ub=gb.GRB.INFINITY, name='II_ex')"
   ]
  },
  {
   "cell_type": "code",
   "execution_count": 197,
   "metadata": {},
   "outputs": [],
   "source": [
    "obj = II * 3.8 + I_h * 5.5 + I_m * 5.2 + I_l * 5\n",
    "obj -= a * 3.25 + b * 3.4 + 0.35 * (a + b) + II_con * 0.25 + 0.1 * (0.25 * b + 0.15 * a) + 0.15 * (0.5 * II_con + 0.25 * b + 0.15 * a) + I_ex * 5.75 + II_ex * 4\n",
    "first_problem.setObjective(obj, gb.GRB.MAXIMIZE)"
   ]
  },
  {
   "cell_type": "code",
   "execution_count": 198,
   "metadata": {},
   "outputs": [],
   "source": [
    "first_problem.addConstr(a + b <= 100000)\n",
    "first_problem.addConstr(II_con <= 50000)\n",
    "first_problem.addConstr(I_h + I_m + I_l >= 40000)\n",
    "first_problem.addConstr(I_h + I_m + I_l == 0.15 * a + 0.25 * b + 0.5 * II_con + I_ex)\n",
    "first_problem.addConstr(II == 0.85 * a + 0.75 * b - 0.5 * II_con + II_ex)\n",
    "\n",
    "first_problem.update()"
   ]
  },
  {
   "cell_type": "code",
   "execution_count": 199,
   "metadata": {},
   "outputs": [
    {
     "name": "stdout",
     "output_type": "stream",
     "text": [
      "Gurobi Optimizer version 10.0.0 build v10.0.0rc2 (mac64[x86])\n",
      "\n",
      "CPU model: Intel(R) Core(TM) i5-4278U CPU @ 2.60GHz\n",
      "Thread count: 2 physical cores, 4 logical processors, using up to 4 threads\n",
      "\n",
      "Optimize a model with 5 rows, 9 columns and 18 nonzeros\n",
      "Model fingerprint: 0xc2b41b5a\n",
      "Variable types: 0 continuous, 9 integer (0 binary)\n",
      "Coefficient statistics:\n",
      "  Matrix range     [1e-01, 1e+00]\n",
      "  Objective range  [3e-01, 6e+00]\n",
      "  Bounds range     [4e+03, 1e+05]\n",
      "  RHS range        [4e+04, 1e+05]\n",
      "Presolve removed 1 rows and 0 columns\n",
      "Presolve time: 0.00s\n",
      "Presolved: 4 rows, 9 columns, 17 nonzeros\n",
      "Variable types: 0 continuous, 9 integer (0 binary)\n",
      "Found heuristic solution: objective -13449.75000\n",
      "Found heuristic solution: objective 32800.250000\n",
      "\n",
      "Root relaxation: objective 6.800000e+04, 4 iterations, 0.00 seconds (0.00 work units)\n",
      "\n",
      "    Nodes    |    Current Node    |     Objective Bounds      |     Work\n",
      " Expl Unexpl |  Obj  Depth IntInf | Incumbent    BestBd   Gap | It/Node Time\n",
      "\n",
      "*    0     0               0    68000.000000 68000.0000  0.00%     -    0s\n",
      "\n",
      "Explored 1 nodes (4 simplex iterations) in 0.05 seconds (0.00 work units)\n",
      "Thread count was 4 (of 4 available processors)\n",
      "\n",
      "Solution count 3: 68000 32800.2 -13449.8 \n",
      "\n",
      "Optimal solution found (tolerance 1.00e-04)\n",
      "Best objective 6.800000000000e+04, best bound 6.800000000000e+04, gap 0.0000%\n"
     ]
    }
   ],
   "source": [
    "first_problem.optimize()"
   ]
  },
  {
   "cell_type": "code",
   "execution_count": 200,
   "metadata": {},
   "outputs": [
    {
     "name": "stdout",
     "output_type": "stream",
     "text": [
      "Поставлено 100000.0 тонн руды A\n",
      "Поставлено 0.0 тонн руды B\n",
      "Ha конвейер отправлено 50000.0 тонн продукта II\n",
      "Продано 40000.0 тонн продукта I по завышенной цене\n",
      "Продано -0.0 тонн продукта I по обычной цене\n",
      "Продано -0.0 тонн продукта I по заниженной цене\n",
      "Продано 60000.0 тонн продукта II\n",
      "Докупили -0.0 продукта I для контракта\n",
      "Докупили -0.0 продукта II для контракта\n",
      "\n",
      "Итоговая прибыль составила 68000.0\n"
     ]
    }
   ],
   "source": [
    "if first_problem.status == gb.GRB.OPTIMAL:\n",
    "    print(f\"Поставлено {a.x} тонн руды A\\n\\\n",
    "Поставлено {b.x} тонн руды B\\n\\\n",
    "Ha конвейер отправлено {II_con.x} тонн продукта II\\n\\\n",
    "Продано {I_h.x} тонн продукта I по завышенной цене\\n\\\n",
    "Продано {I_m.x} тонн продукта I по обычной цене\\n\\\n",
    "Продано {I_l.x} тонн продукта I по заниженной цене\\n\\\n",
    "Продано {II.x} тонн продукта II\\n\\\n",
    "Докупили {I_ex.x} продукта I для контракта\\n\\\n",
    "Докупили {II_ex.x} продукта II для контракта\\n\\n\\\n",
    "Итоговая прибыль составила {first_problem.objVal}\")\n",
    "else:\n",
    "    print('Оптимального решения нет.')"
   ]
  },
  {
   "cell_type": "markdown",
   "metadata": {},
   "source": [
    "#### **2. Найти минимальную цену на продукт I, при которой прибыль предприятия будет не меньше 50 тыс. руб./день**"
   ]
  },
  {
   "cell_type": "markdown",
   "metadata": {},
   "source": [
    "#### Запишем математическую модель:"
   ]
  },
  {
   "cell_type": "markdown",
   "metadata": {},
   "source": [
    "Введём переменные:\n",
    "\n",
    "$I_c$ - цена продукта I  \n",
    "$I$ - продано тонн продукта I\n",
    "\n",
    "Целевая функция:\n",
    "\n",
    "$$I_c \\to \\min$$\n",
    "\n",
    "Ограничения:\n",
    "\n",
    "$$a + b \\leq 100000$$\n",
    "$$II_{кон} \\leq 50000$$\n",
    "$$I \\geq 40000$$\n",
    "$$I = 0.15 * a + 0.25 * b + 0.5 * II_{кон} + I_{доп}$$\n",
    "$$II = 0.85 * a + 0.75 * b - 0.5 * II_{кон} + II_{доп}$$\n",
    "$$(II * 3.8 + I * I_c) - (a * 3.25 + b * 3.4 + 0.35 * (a + b) + II_{кон} * 0.25 + 0.1 * (0.25 * b + 0.15 * a) + 0.15 * (0.5 * II_{кон} + 0.25 * b + 0.15 * a) + I_{доп} * 5.75 + II_{доп} * 4) \\geq 50000$$\n"
   ]
  },
  {
   "cell_type": "code",
   "execution_count": 201,
   "metadata": {},
   "outputs": [],
   "source": [
    "second_problem = gb.Model('second_problem')"
   ]
  },
  {
   "cell_type": "code",
   "execution_count": 202,
   "metadata": {},
   "outputs": [],
   "source": [
    "II = second_problem.addVar(vtype=gb.GRB.INTEGER, lb=0.0, ub=gb.GRB.INFINITY, name='II')\n",
    "I = second_problem.addVar(vtype=gb.GRB.INTEGER, lb=0.0, ub=gb.GRB.INFINITY, name='I')\n",
    "I_c = second_problem.addVar(vtype=gb.GRB.CONTINUOUS, lb=0.0, ub=gb.GRB.INFINITY, name='I_c')\n",
    "a = second_problem.addVar(vtype=gb.GRB.INTEGER, lb=0.0, ub=100000, name='a')\n",
    "b = second_problem.addVar(vtype=gb.GRB.INTEGER, lb=0.0, ub=30000, name='b')\n",
    "II_con = second_problem.addVar(vtype=gb.GRB.INTEGER, lb=0.0, ub=50000, name='II_con')\n",
    "I_ex = second_problem.addVar(vtype=gb.GRB.INTEGER, lb=0.0, ub=gb.GRB.INFINITY, name='I_ex')\n",
    "II_ex = second_problem.addVar(vtype=gb.GRB.INTEGER, lb=0.0, ub=gb.GRB.INFINITY, name='II_ex')"
   ]
  },
  {
   "cell_type": "code",
   "execution_count": 203,
   "metadata": {},
   "outputs": [],
   "source": [
    "second_problem.setObjective(I_c, gb.GRB.MINIMIZE)"
   ]
  },
  {
   "cell_type": "code",
   "execution_count": 204,
   "metadata": {},
   "outputs": [],
   "source": [
    "second_problem.addConstr(a + b <= 100000)\n",
    "second_problem.addConstr(II_con <= 50000)\n",
    "second_problem.addConstr(I >= 40000)\n",
    "second_problem.addConstr(I == 0.15 * a + 0.25 * b + 0.5 * II_con + I_ex)\n",
    "second_problem.addConstr(II == 0.85 * a + 0.75 * b - 0.5 * II_con + II_ex)\n",
    "second_problem.addConstr((II * 3.8 + I * I_c) - (a * 3.25 + b * 3.4 + 0.35 * (a + b) + II_con * 0.25 + 0.1 * (0.25 * b + 0.15 * a) + 0.15 * (0.5 * II_con + 0.25 * b + 0.15 * a) + I_ex * 5.75 + II_ex * 4) >= 50000)\n",
    "\n",
    "second_problem.update()"
   ]
  },
  {
   "cell_type": "code",
   "execution_count": 205,
   "metadata": {},
   "outputs": [
    {
     "name": "stdout",
     "output_type": "stream",
     "text": [
      "Set parameter NonConvex to value 2\n",
      "Gurobi Optimizer version 10.0.0 build v10.0.0rc2 (mac64[x86])\n",
      "\n",
      "CPU model: Intel(R) Core(TM) i5-4278U CPU @ 2.60GHz\n",
      "Thread count: 2 physical cores, 4 logical processors, using up to 4 threads\n",
      "\n",
      "Optimize a model with 5 rows, 8 columns and 14 nonzeros\n",
      "Model fingerprint: 0xb17811d7\n",
      "Model has 1 quadratic constraint\n",
      "Variable types: 1 continuous, 7 integer (0 binary)\n",
      "Coefficient statistics:\n",
      "  Matrix range     [1e-01, 1e+00]\n",
      "  QMatrix range    [1e+00, 1e+00]\n",
      "  QLMatrix range   [3e-01, 6e+00]\n",
      "  Objective range  [1e+00, 1e+00]\n",
      "  Bounds range     [3e+04, 1e+05]\n",
      "  RHS range        [4e+04, 1e+05]\n",
      "  QRHS range       [5e+04, 5e+04]\n",
      "Presolve removed 2 rows and 0 columns\n",
      "Presolve time: 0.00s\n",
      "Presolved: 5 rows, 9 columns, 26 nonzeros\n",
      "Presolved model has 1 bilinear constraint(s)\n",
      "Variable types: 2 continuous, 7 integer (0 binary)\n",
      "\n",
      "Root relaxation: objective 0.000000e+00, 2 iterations, 0.00 seconds (0.00 work units)\n",
      "\n",
      "    Nodes    |    Current Node    |     Objective Bounds      |     Work\n",
      " Expl Unexpl |  Obj  Depth IntInf | Incumbent    BestBd   Gap | It/Node Time\n",
      "\n",
      "     0     0    0.00000    0    1          -    0.00000      -     -    0s\n",
      "H    0     0                       7.0000000    0.00000   100%     -    0s\n",
      "     0     0    0.00000    0    3    7.00000    0.00000   100%     -    0s\n",
      "H    0     0                       5.9393947    0.00000   100%     -    0s\n",
      "H    0     2                       5.7829305    0.00000   100%     -    0s\n",
      "     0     2    0.00000    0    3    5.78293    0.00000   100%     -    0s\n",
      "H   10     2                       5.7628388    4.59999  20.2%   2.0    0s\n",
      "H   27     8                       5.0678989    4.99282  1.48%   2.0    0s\n",
      "*   40     0              14       5.0500000    5.05000  0.00%   2.0    0s\n",
      "\n",
      "Explored 41 nodes (85 simplex iterations) in 0.11 seconds (0.00 work units)\n",
      "Thread count was 4 (of 4 available processors)\n",
      "\n",
      "Solution count 6: 5.05 5.0679 5.76284 ... 7\n",
      "\n",
      "Optimal solution found (tolerance 1.00e-04)\n",
      "Best objective 5.050000000000e+00, best bound 5.050000000000e+00, gap 0.0000%\n"
     ]
    }
   ],
   "source": [
    "second_problem.setParam('NonConvex', 2)\n",
    "second_problem.optimize()"
   ]
  },
  {
   "cell_type": "code",
   "execution_count": 206,
   "metadata": {},
   "outputs": [
    {
     "name": "stdout",
     "output_type": "stream",
     "text": [
      "Поставлено 100000.0 тонн руды A\n",
      "Поставлено -0.0 тонн руды B\n",
      "Ha конвейер отправлено 50000.0 тонн продукта II\n",
      "Цену на продукт I поставили 5.05\n",
      "Продано 40000.0 тонн продукта I\n",
      "Продано 60000.0 тонн продукта II\n",
      "Докупили -0.0 продукта I для контракта\n",
      "Докупили -0.0 продукта II для контракта\n"
     ]
    }
   ],
   "source": [
    "if second_problem.status == gb.GRB.OPTIMAL:\n",
    "    print(f\"Поставлено {a.x} тонн руды A\\n\\\n",
    "Поставлено {b.x} тонн руды B\\n\\\n",
    "Ha конвейер отправлено {II_con.x} тонн продукта II\\n\\\n",
    "Цену на продукт I поставили {I_c.x}\\n\\\n",
    "Продано {I_h.x} тонн продукта I\\n\\\n",
    "Продано {II.x} тонн продукта II\\n\\\n",
    "Докупили {I_ex.x} продукта I для контракта\\n\\\n",
    "Докупили {II_ex.x} продукта II для контракта\")\n",
    "else:\n",
    "    print('Оптимального решения нет.')"
   ]
  },
  {
   "cell_type": "markdown",
   "metadata": {},
   "source": [
    "#### **3. Как изменится оптимальный план, если мощность фильтра ограничена величиной 10 тыс. тонн?**"
   ]
  },
  {
   "cell_type": "markdown",
   "metadata": {},
   "source": [
    "#### Запишем математическую модель:"
   ]
  },
  {
   "cell_type": "markdown",
   "metadata": {},
   "source": [
    "Введём переменные:\n",
    "\n",
    "$II$ - продано тонн продукта II  \n",
    "$I_в$ - продано тонн продукта I по завышенной цене  \n",
    "$I_{ср}$ - продано тонн продукта I по обычной цене  \n",
    "$I_н$ - продано тонн продукта I по заниженной цене  \n",
    "$a$ - поставлено тонн руды А за день  \n",
    "$b$ - оставлено тонн руды В за день  \n",
    "$II_{кон}$ - отправлено тонн продукта II на конвейер  \n",
    "$I_{доп}$ - докупили продукта I для контракта  \n",
    "$II_{доп}$ - докупили продукта II для контракта    \n",
    "\n",
    "Целевая функция:\n",
    "\n",
    "$$(II * 3.8 + I_в * 5.5 + I_{ср} * 5.2 + I_н * 5) - (a * 3.25 + b * 3.4 + 0.35 * (a + b) + II_{кон} * 0.25 + 0.1 * (0.25 * b + 0.15 * a) + 0.15 * (0.5 * II_{кон} + 0.25 * b + 0.15 * a) + I_{доп} * 5.75 + II_{доп} * 4) \\to \\max$$\n",
    "\n",
    "Ограничения:\n",
    "\n",
    "$$a + b \\leq 100000$$\n",
    "$$II_{кон} \\leq 50000$$\n",
    "$$I_в + I_{ср} + I_н \\geq 40000$$\n",
    "$$I_в + I_{ср} + I_н = 0.15 * a + 0.25 * b + 0.5 * II_{кон} + I_{доп}$$\n",
    "$$II = 0.85 * a + 0.75 * b - 0.5 * II_{кон} + II_{доп}$$\n",
    "$$b * 0.25 + a * 0.15\\leq 10000$$"
   ]
  },
  {
   "cell_type": "code",
   "execution_count": 207,
   "metadata": {},
   "outputs": [],
   "source": [
    "third_problem = gb.Model('third_problem')"
   ]
  },
  {
   "cell_type": "code",
   "execution_count": 208,
   "metadata": {},
   "outputs": [],
   "source": [
    "II = third_problem.addVar(vtype=gb.GRB.INTEGER, lb=0.0, ub=gb.GRB.INFINITY, name='II')\n",
    "I_h = third_problem.addVar(vtype=gb.GRB.INTEGER, lb=0.0, ub=45000, name='I_h')\n",
    "I_m = third_problem.addVar(vtype=gb.GRB.INTEGER, lb=0.0, ub=4000, name='I_m')\n",
    "I_l = third_problem.addVar(vtype=gb.GRB.INTEGER, lb=0.0, ub=gb.GRB.INFINITY, name='I_l')\n",
    "a = third_problem.addVar(vtype=gb.GRB.INTEGER, lb=0.0, ub=100000, name='a')\n",
    "b = third_problem.addVar(vtype=gb.GRB.INTEGER, lb=0.0, ub=30000, name='b')\n",
    "II_con = third_problem.addVar(vtype=gb.GRB.INTEGER, lb=0.0, ub=50000, name='II_con')\n",
    "I_ex = third_problem.addVar(vtype=gb.GRB.INTEGER, lb=0.0, ub=gb.GRB.INFINITY, name='I_ex')\n",
    "II_ex = third_problem.addVar(vtype=gb.GRB.INTEGER, lb=0.0, ub=gb.GRB.INFINITY, name='II_ex')"
   ]
  },
  {
   "cell_type": "code",
   "execution_count": 209,
   "metadata": {},
   "outputs": [],
   "source": [
    "obj = II * 3.8 + I_h * 5.5 + I_m * 5.2 + I_l * 5\n",
    "obj -= a * 3.25 + b * 3.4 + 0.35 * (a + b) + II_con * 0.25 + 0.1 * (0.25 * b + 0.15 * a) + 0.15 * (0.5 * II_con + 0.25 * b + 0.15 * a) + I_ex * 5.75 + II_ex * 4\n",
    "third_problem.setObjective(obj, gb.GRB.MAXIMIZE)"
   ]
  },
  {
   "cell_type": "code",
   "execution_count": 210,
   "metadata": {},
   "outputs": [],
   "source": [
    "third_problem.addConstr(a + b <= 100000)\n",
    "third_problem.addConstr(II_con <= 50000)\n",
    "third_problem.addConstr(I_h + I_m + I_l >= 40000)\n",
    "third_problem.addConstr(I_h + I_m + I_l == 0.15 * a + 0.25 * b + 0.5 * II_con + I_ex)\n",
    "third_problem.addConstr(II == 0.85 * a + 0.75 * b - 0.5 * II_con + II_ex)\n",
    "third_problem.addConstr(b * 0.25 + a * 0.15 <= 10000)\n",
    "\n",
    "third_problem.update()"
   ]
  },
  {
   "cell_type": "code",
   "execution_count": 211,
   "metadata": {},
   "outputs": [
    {
     "name": "stdout",
     "output_type": "stream",
     "text": [
      "Gurobi Optimizer version 10.0.0 build v10.0.0rc2 (mac64[x86])\n",
      "\n",
      "CPU model: Intel(R) Core(TM) i5-4278U CPU @ 2.60GHz\n",
      "Thread count: 2 physical cores, 4 logical processors, using up to 4 threads\n",
      "\n",
      "Optimize a model with 6 rows, 9 columns and 20 nonzeros\n",
      "Model fingerprint: 0x393f2405\n",
      "Variable types: 0 continuous, 9 integer (0 binary)\n",
      "Coefficient statistics:\n",
      "  Matrix range     [1e-01, 1e+00]\n",
      "  Objective range  [3e-01, 6e+00]\n",
      "  Bounds range     [4e+03, 1e+05]\n",
      "  RHS range        [1e+04, 1e+05]\n",
      "Presolve removed 2 rows and 0 columns\n",
      "Presolve time: 0.00s\n",
      "Presolved: 4 rows, 9 columns, 17 nonzeros\n",
      "Variable types: 0 continuous, 9 integer (0 binary)\n",
      "Found heuristic solution: objective -13449.75000\n",
      "Found heuristic solution: objective 32800.250000\n",
      "\n",
      "Root relaxation: objective 5.283305e+04, 5 iterations, 0.00 seconds (0.00 work units)\n",
      "\n",
      "    Nodes    |    Current Node    |     Objective Bounds      |     Work\n",
      " Expl Unexpl |  Obj  Depth IntInf | Incumbent    BestBd   Gap | It/Node Time\n",
      "\n",
      "*    0     0               0    52833.050000 52833.0500  0.00%     -    0s\n",
      "\n",
      "Explored 1 nodes (5 simplex iterations) in 0.06 seconds (0.00 work units)\n",
      "Thread count was 4 (of 4 available processors)\n",
      "\n",
      "Solution count 3: 52833 32800.2 -13449.8 \n",
      "\n",
      "Optimal solution found (tolerance 1.00e-04)\n",
      "Best objective 5.283305000000e+04, best bound 5.283305000000e+04, gap 0.0000%\n"
     ]
    }
   ],
   "source": [
    "third_problem.optimize()"
   ]
  },
  {
   "cell_type": "code",
   "execution_count": 212,
   "metadata": {},
   "outputs": [
    {
     "name": "stdout",
     "output_type": "stream",
     "text": [
      "Поставлено 66665.0 тонн руды A\n",
      "Поставлено 1.0 тонн руды B\n",
      "Ha конвейер отправлено 50000.0 тонн продукта II\n",
      "Продано 40000.0 тонн продукта I по завышенной цене\n",
      "Продано -0.0 тонн продукта I по обычной цене\n",
      "Продано -0.0 тонн продукта I по заниженной цене\n",
      "Продано 31666.0 тонн продукта II\n",
      "Докупили 5000.0 продукта I для контракта\n",
      "Докупили -0.0 продукта II для контракта\n",
      "\n",
      "Итоговая прибыль составила 52833.04999999999\n"
     ]
    }
   ],
   "source": [
    "if third_problem.status == gb.GRB.OPTIMAL:\n",
    "    print(f\"Поставлено {a.x} тонн руды A\\n\\\n",
    "Поставлено {b.x} тонн руды B\\n\\\n",
    "Ha конвейер отправлено {II_con.x} тонн продукта II\\n\\\n",
    "Продано {I_h.x} тонн продукта I по завышенной цене\\n\\\n",
    "Продано {I_m.x} тонн продукта I по обычной цене\\n\\\n",
    "Продано {I_l.x} тонн продукта I по заниженной цене\\n\\\n",
    "Продано {II.x} тонн продукта II\\n\\\n",
    "Докупили {I_ex.x} продукта I для контракта\\n\\\n",
    "Докупили {II_ex.x} продукта II для контракта\\n\\n\\\n",
    "Итоговая прибыль составила {third_problem.objVal}\")\n",
    "else:\n",
    "    print('Оптимального решения нет.')"
   ]
  },
  {
   "cell_type": "markdown",
   "metadata": {},
   "source": [
    "#### **4. Как изменится оптимальный план производства, если фильтр выйдет из строя, и продукт I можно будет продавать только по цене 5 руб./т.?**"
   ]
  },
  {
   "cell_type": "markdown",
   "metadata": {},
   "source": [
    "#### Запишем математическую модель:"
   ]
  },
  {
   "cell_type": "markdown",
   "metadata": {},
   "source": [
    "Введём переменные:\n",
    "\n",
    "$II$ - продано тонн продукта II  \n",
    "$I$ - продано тонн продукта I   \n",
    "$a$ - поставлено тонн руды А за день  \n",
    "$b$ - оставлено тонн руды В за день  \n",
    "$II_{кон}$ - отправлено тонн продукта II на конвейер  \n",
    "$I_{доп}$ - докупили продукта I для контракта  \n",
    "$II_{доп}$ - докупили продукта II для контракта    \n",
    "\n",
    "Целевая функция:\n",
    "\n",
    "$$(II * 3.8 + I * 5) - (a * 3.25 + b * 3.4 + 0.35 * (a + b) + II_{кон} * 0.25 + 0.15 * (0.5 * II_{кон} + 0.25 * b + 0.15 * a) + I_{доп} * 5.75 + II_{доп} * 4) \\to \\max$$\n",
    "\n",
    "Ограничения:\n",
    "\n",
    "$$a + b \\leq 100000$$\n",
    "$$II_{кон} \\leq 50000$$\n",
    "$$I \\geq 40000$$\n",
    "$$I = 0.15 * a + 0.25 * b + 0.5 * II_{кон} + I_{доп}$$\n",
    "$$II = 0.85 * a + 0.75 * b - 0.5 * II_{кон} + II_{доп}$$"
   ]
  },
  {
   "cell_type": "code",
   "execution_count": 213,
   "metadata": {},
   "outputs": [],
   "source": [
    "fourth_problem = gb.Model('fourth_problem')"
   ]
  },
  {
   "cell_type": "code",
   "execution_count": 214,
   "metadata": {},
   "outputs": [],
   "source": [
    "II = fourth_problem.addVar(vtype=gb.GRB.INTEGER, lb=0.0, ub=gb.GRB.INFINITY, name='II')\n",
    "I = fourth_problem.addVar(vtype=gb.GRB.INTEGER, lb=0.0, ub=gb.GRB.INFINITY, name='I_h')\n",
    "a = fourth_problem.addVar(vtype=gb.GRB.INTEGER, lb=0.0, ub=100000, name='a')\n",
    "b = fourth_problem.addVar(vtype=gb.GRB.INTEGER, lb=0.0, ub=30000, name='b')\n",
    "II_con = fourth_problem.addVar(vtype=gb.GRB.INTEGER, lb=0.0, ub=50000, name='II_con')\n",
    "I_ex = fourth_problem.addVar(vtype=gb.GRB.INTEGER, lb=0.0, ub=gb.GRB.INFINITY, name='I_ex')\n",
    "II_ex = fourth_problem.addVar(vtype=gb.GRB.INTEGER, lb=0.0, ub=gb.GRB.INFINITY, name='II_ex')"
   ]
  },
  {
   "cell_type": "code",
   "execution_count": 215,
   "metadata": {},
   "outputs": [],
   "source": [
    "obj = II * 3.8 + I * 5\n",
    "obj -= a * 3.25 + b * 3.4 + 0.35 * (a + b) + II_con * 0.25 + 0.15 * (0.5 * II_con + 0.25 * b + 0.15 * a) + I_ex * 5.75 + II_ex * 4\n",
    "fourth_problem.setObjective(obj, gb.GRB.MAXIMIZE)"
   ]
  },
  {
   "cell_type": "code",
   "execution_count": 216,
   "metadata": {},
   "outputs": [],
   "source": [
    "fourth_problem.addConstr(a + b <= 100000)\n",
    "fourth_problem.addConstr(II_con <= 50000)\n",
    "fourth_problem.addConstr(I >= 40000)\n",
    "fourth_problem.addConstr(I == 0.15 * a + 0.25 * b + 0.5 * II_con + I_ex)\n",
    "fourth_problem.addConstr(II == 0.85 * a + 0.75 * b - 0.5 * II_con + II_ex)\n",
    "\n",
    "fourth_problem.update()"
   ]
  },
  {
   "cell_type": "code",
   "execution_count": 217,
   "metadata": {},
   "outputs": [
    {
     "name": "stdout",
     "output_type": "stream",
     "text": [
      "Gurobi Optimizer version 10.0.0 build v10.0.0rc2 (mac64[x86])\n",
      "\n",
      "CPU model: Intel(R) Core(TM) i5-4278U CPU @ 2.60GHz\n",
      "Thread count: 2 physical cores, 4 logical processors, using up to 4 threads\n",
      "\n",
      "Optimize a model with 5 rows, 7 columns and 14 nonzeros\n",
      "Model fingerprint: 0xfebf2bc6\n",
      "Variable types: 0 continuous, 7 integer (0 binary)\n",
      "Coefficient statistics:\n",
      "  Matrix range     [1e-01, 1e+00]\n",
      "  Objective range  [3e-01, 6e+00]\n",
      "  Bounds range     [3e+04, 1e+05]\n",
      "  RHS range        [4e+04, 1e+05]\n",
      "Presolve removed 2 rows and 0 columns\n",
      "Presolve time: 0.00s\n",
      "Presolved: 3 rows, 7 columns, 12 nonzeros\n",
      "Variable types: 0 continuous, 7 integer (0 binary)\n",
      "Found heuristic solution: objective -30000.00000\n",
      "Found heuristic solution: objective 14250.000000\n",
      "\n",
      "Root relaxation: objective 4.950000e+04, 3 iterations, 0.00 seconds (0.00 work units)\n",
      "\n",
      "    Nodes    |    Current Node    |     Objective Bounds      |     Work\n",
      " Expl Unexpl |  Obj  Depth IntInf | Incumbent    BestBd   Gap | It/Node Time\n",
      "\n",
      "*    0     0               0    49500.000000 49500.0000  0.00%     -    0s\n",
      "\n",
      "Explored 1 nodes (3 simplex iterations) in 0.06 seconds (0.00 work units)\n",
      "Thread count was 4 (of 4 available processors)\n",
      "\n",
      "Solution count 3: 49500 14250 -30000 \n",
      "\n",
      "Optimal solution found (tolerance 1.00e-04)\n",
      "Best objective 4.950000000000e+04, best bound 4.950000000000e+04, gap 0.0000%\n"
     ]
    }
   ],
   "source": [
    "fourth_problem.optimize()"
   ]
  },
  {
   "cell_type": "code",
   "execution_count": 218,
   "metadata": {},
   "outputs": [
    {
     "name": "stdout",
     "output_type": "stream",
     "text": [
      "Поставлено 100000.0 тонн руды A\n",
      "Поставлено 0.0 тонн руды B\n",
      "Ha конвейер отправлено 50000.0 тонн продукта II\n",
      "Продано 40000.0 тонн продукта I\n",
      "Продано 60000.0 тонн продукта II\n",
      "Докупили -0.0 продукта I для контракта\n",
      "Докупили -0.0 продукта II для контракта\n",
      "\n",
      "Итоговая прибыль составила 49500.0\n"
     ]
    }
   ],
   "source": [
    "if fourth_problem.status == gb.GRB.OPTIMAL:\n",
    "    print(f\"Поставлено {a.x} тонн руды A\\n\\\n",
    "Поставлено {b.x} тонн руды B\\n\\\n",
    "Ha конвейер отправлено {II_con.x} тонн продукта II\\n\\\n",
    "Продано {I.x} тонн продукта I\\n\\\n",
    "Продано {II.x} тонн продукта II\\n\\\n",
    "Докупили {I_ex.x} продукта I для контракта\\n\\\n",
    "Докупили {II_ex.x} продукта II для контракта\\n\\n\\\n",
    "Итоговая прибыль составила {fourth_problem.objVal}\")\n",
    "else:\n",
    "    print('Оптимального решения нет.')"
   ]
  },
  {
   "cell_type": "markdown",
   "metadata": {},
   "source": [
    "#### **Вопрос 1.** \n",
    "\n",
    "У предприятия по переработке руды есть несколько возможных фильтров с заданными условиями: первый фильтр с мощностью 20 тыс. тонн, причем затраты на фильтрацию составляют 0,01 руб/т, второй фильтр с мощностью 32 тыс. тонн, причем затраты на фильтрацию составляют 0,25 руб/т, и третий фильтр с мощностью 40 тыс. тонн, причем затраты на фильтрацию составляют 0,5 руб/т. Какой фильтр выгоднее всего поставить предприятию?"
   ]
  },
  {
   "cell_type": "code",
   "execution_count": 233,
   "metadata": {},
   "outputs": [
    {
     "name": "stdout",
     "output_type": "stream",
     "text": [
      "Gurobi Optimizer version 10.0.0 build v10.0.0rc2 (mac64[x86])\n",
      "\n",
      "CPU model: Intel(R) Core(TM) i5-4278U CPU @ 2.60GHz\n",
      "Thread count: 2 physical cores, 4 logical processors, using up to 4 threads\n",
      "\n",
      "Optimize a model with 6 rows, 9 columns and 20 nonzeros\n",
      "Model fingerprint: 0x18e17b6c\n",
      "Variable types: 0 continuous, 9 integer (0 binary)\n",
      "Coefficient statistics:\n",
      "  Matrix range     [1e-01, 1e+00]\n",
      "  Objective range  [3e-01, 6e+00]\n",
      "  Bounds range     [4e+03, 1e+05]\n",
      "  RHS range        [2e+04, 1e+05]\n",
      "Presolve removed 2 rows and 0 columns\n",
      "Presolve time: 0.00s\n",
      "Presolved: 4 rows, 9 columns, 17 nonzeros\n",
      "Variable types: 0 continuous, 9 integer (0 binary)\n",
      "Found heuristic solution: objective -13449.75000\n",
      "Found heuristic solution: objective 33475.250000\n",
      "\n",
      "Root relaxation: objective 6.947000e+04, 5 iterations, 0.00 seconds (0.00 work units)\n",
      "\n",
      "    Nodes    |    Current Node    |     Objective Bounds      |     Work\n",
      " Expl Unexpl |  Obj  Depth IntInf | Incumbent    BestBd   Gap | It/Node Time\n",
      "\n",
      "*    0     0               0    69470.000000 69470.0000  0.00%     -    0s\n",
      "\n",
      "Explored 1 nodes (5 simplex iterations) in 0.03 seconds (0.00 work units)\n",
      "Thread count was 4 (of 4 available processors)\n",
      "\n",
      "Solution count 3: 69470 33475.2 -13449.8 \n",
      "\n",
      "Optimal solution found (tolerance 1.00e-04)\n",
      "Best objective 6.947000000000e+04, best bound 6.947000000000e+04, gap 0.0000%\n",
      "Gurobi Optimizer version 10.0.0 build v10.0.0rc2 (mac64[x86])\n",
      "\n",
      "CPU model: Intel(R) Core(TM) i5-4278U CPU @ 2.60GHz\n",
      "Thread count: 2 physical cores, 4 logical processors, using up to 4 threads\n",
      "\n",
      "Optimize a model with 6 rows, 9 columns and 20 nonzeros\n",
      "Model fingerprint: 0x99334790\n",
      "Variable types: 0 continuous, 9 integer (0 binary)\n",
      "Coefficient statistics:\n",
      "  Matrix range     [1e-01, 1e+00]\n",
      "  Objective range  [3e-01, 6e+00]\n",
      "  Bounds range     [4e+03, 1e+05]\n",
      "  RHS range        [3e+04, 1e+05]\n",
      "Presolve removed 2 rows and 0 columns\n",
      "Presolve time: 0.00s\n",
      "Presolved: 4 rows, 9 columns, 17 nonzeros\n",
      "Variable types: 0 continuous, 9 integer (0 binary)\n",
      "Found heuristic solution: objective -13449.75000\n",
      "Found heuristic solution: objective 31675.250000\n",
      "\n",
      "Root relaxation: objective 6.575000e+04, 4 iterations, 0.00 seconds (0.00 work units)\n",
      "\n",
      "    Nodes    |    Current Node    |     Objective Bounds      |     Work\n",
      " Expl Unexpl |  Obj  Depth IntInf | Incumbent    BestBd   Gap | It/Node Time\n",
      "\n",
      "*    0     0               0    65750.000000 65750.0000  0.00%     -    0s\n",
      "\n",
      "Explored 1 nodes (4 simplex iterations) in 0.03 seconds (0.00 work units)\n",
      "Thread count was 4 (of 4 available processors)\n",
      "\n",
      "Solution count 3: 65750 31675.2 -13449.8 \n",
      "\n",
      "Optimal solution found (tolerance 1.00e-04)\n",
      "Best objective 6.575000000000e+04, best bound 6.575000000000e+04, gap 0.0000%\n",
      "Gurobi Optimizer version 10.0.0 build v10.0.0rc2 (mac64[x86])\n",
      "\n",
      "CPU model: Intel(R) Core(TM) i5-4278U CPU @ 2.60GHz\n",
      "Thread count: 2 physical cores, 4 logical processors, using up to 4 threads\n",
      "\n",
      "Optimize a model with 6 rows, 9 columns and 20 nonzeros\n",
      "Model fingerprint: 0xda1247fe\n",
      "Variable types: 0 continuous, 9 integer (0 binary)\n",
      "Coefficient statistics:\n",
      "  Matrix range     [1e-01, 1e+00]\n",
      "  Objective range  [3e-01, 6e+00]\n",
      "  Bounds range     [4e+03, 1e+05]\n",
      "  RHS range        [4e+04, 1e+05]\n",
      "Presolve removed 2 rows and 0 columns\n",
      "Presolve time: 0.00s\n",
      "Presolved: 4 rows, 9 columns, 17 nonzeros\n",
      "Variable types: 0 continuous, 9 integer (0 binary)\n",
      "Found heuristic solution: objective -13449.75000\n",
      "Found heuristic solution: objective 29800.250000\n",
      "\n",
      "Root relaxation: objective 6.200000e+04, 4 iterations, 0.00 seconds (0.00 work units)\n",
      "\n",
      "    Nodes    |    Current Node    |     Objective Bounds      |     Work\n",
      " Expl Unexpl |  Obj  Depth IntInf | Incumbent    BestBd   Gap | It/Node Time\n",
      "\n",
      "*    0     0               0    62000.000000 62000.0000  0.00%     -    0s\n",
      "\n",
      "Explored 1 nodes (4 simplex iterations) in 0.11 seconds (0.00 work units)\n",
      "Thread count was 4 (of 4 available processors)\n",
      "\n",
      "Solution count 3: 62000 29800.2 -13449.8 \n",
      "\n",
      "Optimal solution found (tolerance 1.00e-04)\n",
      "Best objective 6.200000000000e+04, best bound 6.200000000000e+04, gap 0.0000%\n",
      "Выгоднее всего поставить 1 фильтр, так как прибыль составляет 69470.0 рублей\n"
     ]
    }
   ],
   "source": [
    "max_income = 0, 0\n",
    "\n",
    "for i, cost, power in [(1, 0.01, 20000), (2, 0.25, 32000), (3, 0.5, 40000)]:\n",
    "    first_question = gb.Model('first_question')\n",
    "\n",
    "    II = first_question.addVar(vtype=gb.GRB.INTEGER, lb=0.0, ub=gb.GRB.INFINITY, name='II')\n",
    "    I_h = first_question.addVar(vtype=gb.GRB.INTEGER, lb=0.0, ub=45000, name='I_h')\n",
    "    I_m = first_question.addVar(vtype=gb.GRB.INTEGER, lb=0.0, ub=4000, name='I_m')\n",
    "    I_l = first_question.addVar(vtype=gb.GRB.INTEGER, lb=0.0, ub=gb.GRB.INFINITY, name='I_l')\n",
    "    a = first_question.addVar(vtype=gb.GRB.INTEGER, lb=0.0, ub=100000, name='a')\n",
    "    b = first_question.addVar(vtype=gb.GRB.INTEGER, lb=0.0, ub=30000, name='b')\n",
    "    II_con = first_question.addVar(vtype=gb.GRB.INTEGER, lb=0.0, ub=50000, name='II_con')\n",
    "    I_ex = first_question.addVar(vtype=gb.GRB.INTEGER, lb=0.0, ub=gb.GRB.INFINITY, name='I_ex')\n",
    "    II_ex = first_question.addVar(vtype=gb.GRB.INTEGER, lb=0.0, ub=gb.GRB.INFINITY, name='II_ex')\n",
    "\n",
    "    obj = II * 3.8 + I_h * 5.5 + I_m * 5.2 + I_l * 5\n",
    "    obj -= a * 3.25 + b * 3.4 + 0.35 * (a + b) + II_con * 0.25 + cost * (0.25 * b + 0.15 * a) + 0.15 * (0.5 * II_con + 0.25 * b + 0.15 * a) + I_ex * 5.75 + II_ex * 4\n",
    "    first_question.setObjective(obj, gb.GRB.MAXIMIZE)\n",
    "\n",
    "    first_question.addConstr(a + b <= 100000)\n",
    "    first_question.addConstr(II_con <= 50000)\n",
    "    first_question.addConstr(I_h + I_m + I_l >= 40000)\n",
    "    first_question.addConstr(I_h + I_m + I_l == 0.15 * a + 0.25 * b + 0.5 * II_con + I_ex)\n",
    "    first_question.addConstr(II == 0.85 * a + 0.75 * b - 0.5 * II_con + II_ex)\n",
    "    first_question.addConstr(0.25 * b + 0.15 * a <= power)\n",
    "\n",
    "    first_question.update()\n",
    "\n",
    "    first_question.optimize()\n",
    "\n",
    "    if first_question.objVal >= max_income[1]:\n",
    "        max_income = i, first_question.ObjVal\n",
    "\n",
    "print(f'Выгоднее всего поставить {max_income[0]} фильтр, так как прибыль составляет {max_income[1]} рублей')"
   ]
  },
  {
   "cell_type": "markdown",
   "metadata": {},
   "source": [
    "#### **Вопрос 2.**\n",
    "\n",
    "Предприятие решилось обновиться, и теперь появился новый улучшенный фильтр у первого продукта после основного процесса переработки. После фильтра продукт I становится чище, и его стоимость возрастает на 20%, и при этом сами затраты на фильтрацию минимальны (то есть считаем, что бесплатно). Рассчитайте математическую модель с новыми условиями."
   ]
  },
  {
   "cell_type": "code",
   "execution_count": 234,
   "metadata": {},
   "outputs": [],
   "source": [
    "second_question = gb.Model('second_question')"
   ]
  },
  {
   "cell_type": "code",
   "execution_count": 235,
   "metadata": {},
   "outputs": [],
   "source": [
    "II = second_question.addVar(vtype=gb.GRB.INTEGER, lb=0.0, ub=gb.GRB.INFINITY, name='II')\n",
    "I_h = second_question.addVar(vtype=gb.GRB.INTEGER, lb=0.0, ub=45000, name='I_h')\n",
    "I_m = second_question.addVar(vtype=gb.GRB.INTEGER, lb=0.0, ub=4000, name='I_m')\n",
    "I_l = second_question.addVar(vtype=gb.GRB.INTEGER, lb=0.0, ub=gb.GRB.INFINITY, name='I_l')\n",
    "a = second_question.addVar(vtype=gb.GRB.INTEGER, lb=0.0, ub=100000, name='a')\n",
    "b = second_question.addVar(vtype=gb.GRB.INTEGER, lb=0.0, ub=30000, name='b')\n",
    "II_con = second_question.addVar(vtype=gb.GRB.INTEGER, lb=0.0, ub=50000, name='II_con')\n",
    "I_ex = second_question.addVar(vtype=gb.GRB.INTEGER, lb=0.0, ub=gb.GRB.INFINITY, name='I_ex')\n",
    "II_ex = second_question.addVar(vtype=gb.GRB.INTEGER, lb=0.0, ub=gb.GRB.INFINITY, name='II_ex')"
   ]
  },
  {
   "cell_type": "code",
   "execution_count": 237,
   "metadata": {},
   "outputs": [],
   "source": [
    "obj = II * 3.8 + I_h * 5.5 + I_m * 5.2 + I_l * 5 + 0.2 * (a * 0.15 + b * 0.25)\n",
    "obj -= a * 3.25 + b * 3.4 + 0.35 * (a + b) + II_con * 0.25 + 0.15 * (0.5 * II_con + 0.25 * b + 0.15 * a) + I_ex * 5.75 + II_ex * 4\n",
    "second_question.setObjective(obj, gb.GRB.MAXIMIZE)"
   ]
  },
  {
   "cell_type": "code",
   "execution_count": 238,
   "metadata": {},
   "outputs": [],
   "source": [
    "second_question.addConstr(a + b <= 100000)\n",
    "second_question.addConstr(II_con <= 50000)\n",
    "second_question.addConstr(I_h + I_m + I_l >= 40000)\n",
    "second_question.addConstr(I_h + I_m + I_l == 0.15 * a + 0.25 * b + 0.5 * II_con + I_ex)\n",
    "second_question.addConstr(II == 0.85 * a + 0.75 * b - 0.5 * II_con + II_ex)\n",
    "\n",
    "second_question.update()"
   ]
  },
  {
   "cell_type": "code",
   "execution_count": 239,
   "metadata": {},
   "outputs": [
    {
     "name": "stdout",
     "output_type": "stream",
     "text": [
      "Gurobi Optimizer version 10.0.0 build v10.0.0rc2 (mac64[x86])\n",
      "\n",
      "CPU model: Intel(R) Core(TM) i5-4278U CPU @ 2.60GHz\n",
      "Thread count: 2 physical cores, 4 logical processors, using up to 4 threads\n",
      "\n",
      "Optimize a model with 5 rows, 9 columns and 18 nonzeros\n",
      "Model fingerprint: 0xce9169b1\n",
      "Variable types: 0 continuous, 9 integer (0 binary)\n",
      "Coefficient statistics:\n",
      "  Matrix range     [1e-01, 1e+00]\n",
      "  Objective range  [3e-01, 6e+00]\n",
      "  Bounds range     [4e+03, 1e+05]\n",
      "  RHS range        [4e+04, 1e+05]\n",
      "Presolve removed 1 rows and 0 columns\n",
      "Presolve time: 0.00s\n",
      "Presolved: 4 rows, 9 columns, 17 nonzeros\n",
      "Variable types: 0 continuous, 9 integer (0 binary)\n",
      "Found heuristic solution: objective -13449.75000\n",
      "Found heuristic solution: objective 35050.250000\n",
      "\n",
      "Root relaxation: objective 7.325000e+04, 6 iterations, 0.00 seconds (0.00 work units)\n",
      "\n",
      "    Nodes    |    Current Node    |     Objective Bounds      |     Work\n",
      " Expl Unexpl |  Obj  Depth IntInf | Incumbent    BestBd   Gap | It/Node Time\n",
      "\n",
      "*    0     0               0    73250.000000 73250.0000  0.00%     -    0s\n",
      "\n",
      "Explored 1 nodes (6 simplex iterations) in 0.04 seconds (0.00 work units)\n",
      "Thread count was 4 (of 4 available processors)\n",
      "\n",
      "Solution count 3: 73250 35050.2 -13449.8 \n",
      "\n",
      "Optimal solution found (tolerance 1.00e-04)\n",
      "Best objective 7.325000000000e+04, best bound 7.325000000000e+04, gap 0.0000%\n"
     ]
    }
   ],
   "source": [
    "second_question.optimize()"
   ]
  },
  {
   "cell_type": "code",
   "execution_count": 240,
   "metadata": {},
   "outputs": [
    {
     "name": "stdout",
     "output_type": "stream",
     "text": [
      "Поставлено 70000.0 тонн руды A\n",
      "Поставлено 30000.0 тонн руды B\n",
      "Ha конвейер отправлено 50000.0 тонн продукта II\n",
      "Продано 43000.0 тонн продукта I по завышенной цене\n",
      "Продано -0.0 тонн продукта I по обычной цене\n",
      "Продано -0.0 тонн продукта I по заниженной цене\n",
      "Продано 57000.0 тонн продукта II\n",
      "Докупили -0.0 продукта I для контракта\n",
      "Докупили -0.0 продукта II для контракта\n",
      "\n",
      "Итоговая прибыль составила 73249.99999999996\n"
     ]
    }
   ],
   "source": [
    "if second_question.status == gb.GRB.OPTIMAL:\n",
    "    print(f\"Поставлено {a.x} тонн руды A\\n\\\n",
    "Поставлено {b.x} тонн руды B\\n\\\n",
    "Ha конвейер отправлено {II_con.x} тонн продукта II\\n\\\n",
    "Продано {I_h.x} тонн продукта I по завышенной цене\\n\\\n",
    "Продано {I_m.x} тонн продукта I по обычной цене\\n\\\n",
    "Продано {I_l.x} тонн продукта I по заниженной цене\\n\\\n",
    "Продано {II.x} тонн продукта II\\n\\\n",
    "Докупили {I_ex.x} продукта I для контракта\\n\\\n",
    "Докупили {II_ex.x} продукта II для контракта\\n\\n\\\n",
    "Итоговая прибыль составила {second_question.objVal}\")\n",
    "else:\n",
    "    print('Оптимального решения нет.')"
   ]
  }
 ],
 "metadata": {
  "kernelspec": {
   "display_name": "Python 3.10.2 64-bit",
   "language": "python",
   "name": "python3"
  },
  "language_info": {
   "codemirror_mode": {
    "name": "ipython",
    "version": 3
   },
   "file_extension": ".py",
   "mimetype": "text/x-python",
   "name": "python",
   "nbconvert_exporter": "python",
   "pygments_lexer": "ipython3",
   "version": "3.10.2"
  },
  "orig_nbformat": 4,
  "vscode": {
   "interpreter": {
    "hash": "aee8b7b246df8f9039afb4144a1f6fd8d2ca17a180786b69acc140d282b71a49"
   }
  }
 },
 "nbformat": 4,
 "nbformat_minor": 2
}
