{
 "cells": [
  {
   "cell_type": "markdown",
   "metadata": {},
   "source": [
    "## **Управление предприятием по переработке руды** ##"
   ]
  },
  {
   "cell_type": "markdown",
   "metadata": {},
   "source": [
    "Перерабатываются два вида руды: А и В. Предприятию может быть поставлено в день до 100 тыс. тонн руды вида А по цене 3.25 руб./т. и до 30 тыс. тонн руды вида В более по цене 3.40 руб./т.  Общая мощность основного процесса переработки равна 100 тыс. тонн руды в день при затратах на переработку 0.35 руб./т. \n",
    "\n",
    "Основной процесс обработки позволяет получать \n",
    "из каждой тонны руды вида А 0.15 т продукта I и 0.85 т продукта II,  \n",
    "из каждой тонны руды вида В – 0.25 т продукта I и 0.75 т продукта II. \n",
    "Продукт I более ценный, и агрегат, называемый конвертером, способен из каждой тонны продукта II получить 0.5 т продукта I и 0.5 т продукта II, который нельзя повторно перерабатывать конвертером. Мощность конвертера – 50 тыс. тонн сырья в день при затратах на конвертерную обработку 0.25 руб./т сырья. \n",
    "Затраты на фильтрацию продукта I , производимую после основного процесса обработки, равны 0.10 руб./т сырья. Затраты на упаковку продукта I 0.15 руб./т сырья.\n",
    "\n",
    "Условия реализации продукции следующие. Вся продукция идет на продажу.\n",
    "Продукт II может быть реализован в неограниченном количестве по цене 3.80 руб./т. Продукт I  продается по цене 5.50 руб./т, и его можно продать по этой цене до 45 тыс. т/день. Кроме того, можно продать до 4 тыс. тонн в день по цене 5.2 руб./т и неограниченное количество продукта по заниженной цене 5.0 руб./т.\n",
    "Существует контракт, согласно которому требуется поставлять потребителям не менее 40 тыс. тонн продукта I в день. Оба продукта можно при необходимости докупить: закупочная цена продукта I равна 5.75 руб./т, закупочная цена продукта II - 4.00 руб./т.\n",
    "\n",
    "Ввести переменные, построить математическую модель и \n",
    "* найти план выпуска продукции с максимальной прибылью;\n",
    "* найти минимальную цену на продукт I, при которой прибыль предприятия будет не меньше 50 тыс. руб./день;\n",
    "* как изменится оптимальный план, если мощность фильтра ограничена величиной 10 тыс. тонн?\n",
    "* как изменится оптимальный план производства, если фильтр выйдет из строя, и продукт I можно будет продавать только по цене 5 руб./т.?"
   ]
  },
  {
   "cell_type": "markdown",
   "metadata": {},
   "source": [
    "![image.png](scheme.png)"
   ]
  },
  {
   "cell_type": "markdown",
   "metadata": {},
   "source": [
    "#### Запишем математическую модель:"
   ]
  },
  {
   "cell_type": "markdown",
   "metadata": {},
   "source": [
    "Введём переменные:\n",
    "\n",
    "$II$ - продано тонн продукта II  \n",
    "$I_в$ - продано тонн продукта I по завышенной цене  \n",
    "$I_{ср}$ - продано тонн продукта I по обычной цене  \n",
    "$I_н$ - продано тонн продукта I по заниженной цене  \n",
    "$a$ - поставлено тонн руды А за день  \n",
    "$b$ - оставлено тонн руды В за день  \n",
    "$II_{кон}$ - отправлено тонн продукта II на конвейер  \n",
    "$I_{доп}$ - докупили продукта I для контракта  \n",
    "$II_{доп}$ - докупили продукта II для контракта    \n",
    "\n",
    "Целевая функция:\n",
    "\n",
    "$$(II * 3.8 + I_в * 5.5 + I_{ср} * 5.2 + I_н * 5) - (a * 3.25 + b * 3.4 + 0.35 * (a + b) + II_{кон} * 0.25 + 0.1 * 0.25 * b + 0.15 * (0.5 * II_{кон} + 0.25 * b) + I_{доп} * 5.75 + II_{доп} * 4) \\to \\max$$\n",
    "\n",
    "Ограничения:\n",
    "\n",
    "$$a + b \\leq 100000$$\n",
    "$$II_{кон} \\leq 50000$$\n",
    "$$I_в + I_{ср} + I_н \\geq 40000$$\n",
    "$$I_в + I_{ср} + I_н = 0.15 * a + 0.25 * b + 0.5 * II_{кон} + I_{доп}$$\n",
    "$$II = 0.85 * a + 0.75 * b - 0.5 * II_{кон} + II_{доп}$$"
   ]
  },
  {
   "cell_type": "code",
   "execution_count": 74,
   "metadata": {},
   "outputs": [],
   "source": [
    "import gurobipy as gb      \n",
    "import numpy as np"
   ]
  },
  {
   "cell_type": "markdown",
   "metadata": {},
   "source": [
    "#### **1. Найти план выпуска продукции с максимальной прибылью**"
   ]
  },
  {
   "cell_type": "code",
   "execution_count": 75,
   "metadata": {},
   "outputs": [],
   "source": [
    "first_problem = gb.Model('first_problem')"
   ]
  },
  {
   "cell_type": "code",
   "execution_count": 76,
   "metadata": {},
   "outputs": [],
   "source": [
    "II = first_problem.addVar(vtype=gb.GRB.INTEGER, lb=0.0, ub=gb.GRB.INFINITY, name='II')\n",
    "I_h = first_problem.addVar(vtype=gb.GRB.INTEGER, lb=0.0, ub=45000, name='I_h')\n",
    "I_m = first_problem.addVar(vtype=gb.GRB.INTEGER, lb=0.0, ub=4000, name='I_m')\n",
    "I_l = first_problem.addVar(vtype=gb.GRB.INTEGER, lb=0.0, ub=gb.GRB.INFINITY, name='I_l')\n",
    "a = first_problem.addVar(vtype=gb.GRB.INTEGER, lb=0.0, ub=100000, name='a')\n",
    "b = first_problem.addVar(vtype=gb.GRB.INTEGER, lb=0.0, ub=30000, name='b')\n",
    "II_con = first_problem.addVar(vtype=gb.GRB.INTEGER, lb=0.0, ub=50000, name='II_con')\n",
    "I_ex = first_problem.addVar(vtype=gb.GRB.INTEGER, lb=0.0, ub=gb.GRB.INFINITY, name='I_ex')\n",
    "II_ex = first_problem.addVar(vtype=gb.GRB.INTEGER, lb=0.0, ub=gb.GRB.INFINITY, name='II_ex')"
   ]
  },
  {
   "cell_type": "code",
   "execution_count": 77,
   "metadata": {},
   "outputs": [],
   "source": [
    "obj = II * 3.8 + I_h * 5.5 + I_m * 5.2 + I_l * 5\n",
    "obj -= a * 3.25 + b * 3.4 + 0.35 * (a + b) + II_con * 0.25 + 0.1 * 0.25 * b + 0.15 * (0.5 * II_con + 0.25 * b) + I_ex * 5.75 + II_ex * 4\n",
    "first_problem.setObjective(obj, gb.GRB.MAXIMIZE)"
   ]
  },
  {
   "cell_type": "code",
   "execution_count": 78,
   "metadata": {},
   "outputs": [],
   "source": [
    "first_problem.addConstr(a + b <= 100000)\n",
    "first_problem.addConstr(II_con <= 50000)\n",
    "first_problem.addConstr(I_h + I_m + I_l >= 40000)\n",
    "first_problem.addConstr(I_h + I_m + I_l == 0.15 * a + 0.25 * b + 0.5 * II_con + I_ex)\n",
    "first_problem.addConstr(II == 0.85 * a + 0.75 * b - 0.5 * II_con + II_ex)\n",
    "\n",
    "first_problem.update()"
   ]
  },
  {
   "cell_type": "code",
   "execution_count": 79,
   "metadata": {},
   "outputs": [
    {
     "name": "stdout",
     "output_type": "stream",
     "text": [
      "Gurobi Optimizer version 10.0.0 build v10.0.0rc2 (mac64[x86])\n",
      "\n",
      "CPU model: Intel(R) Core(TM) i5-4278U CPU @ 2.60GHz\n",
      "Thread count: 2 physical cores, 4 logical processors, using up to 4 threads\n",
      "\n",
      "Optimize a model with 5 rows, 9 columns and 18 nonzeros\n",
      "Model fingerprint: 0x359cb8c5\n",
      "Variable types: 0 continuous, 9 integer (0 binary)\n",
      "Coefficient statistics:\n",
      "  Matrix range     [1e-01, 1e+00]\n",
      "  Objective range  [3e-01, 6e+00]\n",
      "  Bounds range     [4e+03, 1e+05]\n",
      "  RHS range        [4e+04, 1e+05]\n",
      "Presolve removed 1 rows and 0 columns\n",
      "Presolve time: 0.00s\n",
      "Presolved: 4 rows, 9 columns, 17 nonzeros\n",
      "Variable types: 0 continuous, 9 integer (0 binary)\n",
      "Found heuristic solution: objective -13449.75000\n",
      "Found heuristic solution: objective 32800.250000\n",
      "\n",
      "Root relaxation: objective 7.175000e+04, 4 iterations, 0.00 seconds (0.00 work units)\n",
      "\n",
      "    Nodes    |    Current Node    |     Objective Bounds      |     Work\n",
      " Expl Unexpl |  Obj  Depth IntInf | Incumbent    BestBd   Gap | It/Node Time\n",
      "\n",
      "*    0     0               0    71750.000000 71750.0000  0.00%     -    0s\n",
      "\n",
      "Explored 1 nodes (4 simplex iterations) in 0.02 seconds (0.00 work units)\n",
      "Thread count was 4 (of 4 available processors)\n",
      "\n",
      "Solution count 3: 71750 32800.2 -13449.8 \n",
      "\n",
      "Optimal solution found (tolerance 1.00e-04)\n",
      "Best objective 7.175000000000e+04, best bound 7.175000000000e+04, gap 0.0000%\n"
     ]
    }
   ],
   "source": [
    "first_problem.optimize()"
   ]
  },
  {
   "cell_type": "code",
   "execution_count": 80,
   "metadata": {},
   "outputs": [
    {
     "name": "stdout",
     "output_type": "stream",
     "text": [
      "Поставлено 100000.0 тонн руды A\n",
      "Поставлено 0.0 тонн руды B\n",
      "Ha конвейер отправлено 50000.0 тонн продукта II\n",
      "Продано 40000.0 тонн продукта I по завышенной цене\n",
      "Продано -0.0 тонн продукта I по обычной цене\n",
      "Продано -0.0 тонн продукта I по заниженной цене\n",
      "Продано 60000.0 тонн продукта II\n",
      "Докупили -0.0 продукта I для контракта\n",
      "Докупили -0.0 продукта II для контракта\n",
      "\n",
      "Итоговая прибыль составила 71750.0\n"
     ]
    }
   ],
   "source": [
    "if first_problem.status == gb.GRB.OPTIMAL:\n",
    "    print(f\"Поставлено {a.x} тонн руды A\\n\\\n",
    "Поставлено {b.x} тонн руды B\\n\\\n",
    "Ha конвейер отправлено {II_con.x} тонн продукта II\\n\\\n",
    "Продано {I_h.x} тонн продукта I по завышенной цене\\n\\\n",
    "Продано {I_m.x} тонн продукта I по обычной цене\\n\\\n",
    "Продано {I_l.x} тонн продукта I по заниженной цене\\n\\\n",
    "Продано {II.x} тонн продукта II\\n\\\n",
    "Докупили {I_ex.x} продукта I для контракта\\n\\\n",
    "Докупили {II_ex.x} продукта II для контракта\\n\\n\\\n",
    "Итоговая прибыль составила {first_problem.objVal}\")\n",
    "else:\n",
    "    print('Оптимального решения нет.')"
   ]
  },
  {
   "cell_type": "markdown",
   "metadata": {},
   "source": [
    "#### **2. Найти минимальную цену на продукт I, при которой прибыль предприятия будет не меньше 50 тыс. руб./день**"
   ]
  },
  {
   "cell_type": "markdown",
   "metadata": {},
   "source": [
    "#### Запишем математическую модель:"
   ]
  },
  {
   "cell_type": "markdown",
   "metadata": {},
   "source": [
    "Введём переменные:\n",
    "\n",
    "$I_c$ - цена продукта I  \n",
    "$I$ - продано тонн продукта I\n",
    "\n",
    "Целевая функция:\n",
    "\n",
    "$$I_c \\to \\min$$\n",
    "\n",
    "Ограничения:\n",
    "\n",
    "$$a + b \\leq 100000$$\n",
    "$$II_{кон} \\leq 50000$$\n",
    "$$I \\geq 40000$$\n",
    "$$I = 0.15 * a + 0.25 * b + 0.5 * II_{кон} + I_{доп}$$\n",
    "$$II = 0.85 * a + 0.75 * b - 0.5 * II_{кон} + II_{доп}$$\n",
    "$$(II * 3.8 + I * I_c) - (a * 3.25 + b * 3.4 + 0.35 * (a + b) + II_{кон} * 0.25 + 0.1 * 0.25 * b + 0.15 * (0.5 * II_{кон} + 0.25 * b) + I_{доп} * 5.75 + II_{доп} * 4) \\geq 50000$$\n"
   ]
  },
  {
   "cell_type": "code",
   "execution_count": 81,
   "metadata": {},
   "outputs": [],
   "source": [
    "second_problem = gb.Model('second_problem')"
   ]
  },
  {
   "cell_type": "code",
   "execution_count": 82,
   "metadata": {},
   "outputs": [],
   "source": [
    "II = second_problem.addVar(vtype=gb.GRB.INTEGER, lb=0.0, ub=gb.GRB.INFINITY, name='II')\n",
    "I = second_problem.addVar(vtype=gb.GRB.INTEGER, lb=0.0, ub=gb.GRB.INFINITY, name='I')\n",
    "I_c = second_problem.addVar(vtype=gb.GRB.CONTINUOUS, lb=0.0, ub=gb.GRB.INFINITY, name='I_c')\n",
    "a = second_problem.addVar(vtype=gb.GRB.INTEGER, lb=0.0, ub=100000, name='a')\n",
    "b = second_problem.addVar(vtype=gb.GRB.INTEGER, lb=0.0, ub=30000, name='b')\n",
    "II_con = second_problem.addVar(vtype=gb.GRB.INTEGER, lb=0.0, ub=50000, name='II_con')\n",
    "I_ex = second_problem.addVar(vtype=gb.GRB.INTEGER, lb=0.0, ub=gb.GRB.INFINITY, name='I_ex')\n",
    "II_ex = second_problem.addVar(vtype=gb.GRB.INTEGER, lb=0.0, ub=gb.GRB.INFINITY, name='II_ex')"
   ]
  },
  {
   "cell_type": "code",
   "execution_count": 83,
   "metadata": {},
   "outputs": [],
   "source": [
    "second_problem.setObjective(I_c, gb.GRB.MINIMIZE)"
   ]
  },
  {
   "cell_type": "code",
   "execution_count": 84,
   "metadata": {},
   "outputs": [],
   "source": [
    "second_problem.addConstr(a + b <= 100000)\n",
    "second_problem.addConstr(II_con <= 50000)\n",
    "second_problem.addConstr(I >= 40000)\n",
    "second_problem.addConstr(I == 0.15 * a + 0.25 * b + 0.5 * II_con + I_ex)\n",
    "second_problem.addConstr(II == 0.85 * a + 0.75 * b - 0.5 * II_con + II_ex)\n",
    "second_problem.addConstr((II * 3.8 + I * I_c) - (a * 3.25 + b * 3.4 + 0.35 * (a + b) + II_con * 0.25 + 0.1 * 0.25 * b + 0.15 * (0.5 * II_con + 0.25 * b) + I_ex * 5.75 + II_ex * 4) >= 50000)\n",
    "\n",
    "second_problem.update()"
   ]
  },
  {
   "cell_type": "code",
   "execution_count": 85,
   "metadata": {},
   "outputs": [
    {
     "name": "stdout",
     "output_type": "stream",
     "text": [
      "Set parameter NonConvex to value 2\n",
      "Gurobi Optimizer version 10.0.0 build v10.0.0rc2 (mac64[x86])\n",
      "\n",
      "CPU model: Intel(R) Core(TM) i5-4278U CPU @ 2.60GHz\n",
      "Thread count: 2 physical cores, 4 logical processors, using up to 4 threads\n",
      "\n",
      "Optimize a model with 5 rows, 8 columns and 14 nonzeros\n",
      "Model fingerprint: 0xf8e27a93\n",
      "Model has 1 quadratic constraint\n",
      "Variable types: 1 continuous, 7 integer (0 binary)\n",
      "Coefficient statistics:\n",
      "  Matrix range     [1e-01, 1e+00]\n",
      "  QMatrix range    [1e+00, 1e+00]\n",
      "  QLMatrix range   [3e-01, 6e+00]\n",
      "  Objective range  [1e+00, 1e+00]\n",
      "  Bounds range     [3e+04, 1e+05]\n",
      "  RHS range        [4e+04, 1e+05]\n",
      "  QRHS range       [5e+04, 5e+04]\n",
      "Presolve removed 2 rows and 0 columns\n",
      "Presolve time: 0.00s\n",
      "Presolved: 5 rows, 9 columns, 26 nonzeros\n",
      "Presolved model has 1 bilinear constraint(s)\n",
      "Variable types: 2 continuous, 7 integer (0 binary)\n",
      "\n",
      "Root relaxation: objective 0.000000e+00, 2 iterations, 0.00 seconds (0.00 work units)\n",
      "\n",
      "    Nodes    |    Current Node    |     Objective Bounds      |     Work\n",
      " Expl Unexpl |  Obj  Depth IntInf | Incumbent    BestBd   Gap | It/Node Time\n",
      "\n",
      "     0     0    0.00000    0    1          -    0.00000      -     -    0s\n",
      "H    0     0                       7.0000000    0.00000   100%     -    0s\n",
      "     0     0    0.00000    0    3    7.00000    0.00000   100%     -    0s\n",
      "H    0     0                       5.9393947    0.00000   100%     -    0s\n",
      "H    0     2                       5.7829305    0.00000   100%     -    0s\n",
      "     0     2    0.00000    0    3    5.78293    0.00000   100%     -    0s\n",
      "H   10     2                       5.7628388    4.59999  20.2%   2.0    0s\n",
      "*   26     4              12       4.9562500    4.95625  0.00%   2.2    0s\n",
      "\n",
      "Explored 27 nodes (60 simplex iterations) in 0.13 seconds (0.00 work units)\n",
      "Thread count was 4 (of 4 available processors)\n",
      "\n",
      "Solution count 5: 4.95625 5.76284 5.78293 ... 7\n",
      "\n",
      "Optimal solution found (tolerance 1.00e-04)\n",
      "Best objective 4.956250000000e+00, best bound 4.956250000000e+00, gap 0.0000%\n"
     ]
    }
   ],
   "source": [
    "second_problem.setParam('NonConvex', 2)\n",
    "second_problem.optimize()"
   ]
  },
  {
   "cell_type": "code",
   "execution_count": 86,
   "metadata": {},
   "outputs": [
    {
     "name": "stdout",
     "output_type": "stream",
     "text": [
      "Поставлено 100000.0 тонн руды A\n",
      "Поставлено -0.0 тонн руды B\n",
      "Ha конвейер отправлено 50000.0 тонн продукта II\n",
      "Цену на продукт I поставили 4.95625\n",
      "Продано 40000.0 тонн продукта I\n",
      "Продано 60000.000000000015 тонн продукта II\n",
      "Докупили -0.0 продукта I для контракта\n",
      "Докупили -0.0 продукта II для контракта\n"
     ]
    }
   ],
   "source": [
    "if second_problem.status == gb.GRB.OPTIMAL:\n",
    "    print(f\"Поставлено {a.x} тонн руды A\\n\\\n",
    "Поставлено {b.x} тонн руды B\\n\\\n",
    "Ha конвейер отправлено {II_con.x} тонн продукта II\\n\\\n",
    "Цену на продукт I поставили {I_c.x}\\n\\\n",
    "Продано {I_h.x} тонн продукта I\\n\\\n",
    "Продано {II.x} тонн продукта II\\n\\\n",
    "Докупили {I_ex.x} продукта I для контракта\\n\\\n",
    "Докупили {II_ex.x} продукта II для контракта\")\n",
    "else:\n",
    "    print('Оптимального решения нет.')"
   ]
  },
  {
   "cell_type": "markdown",
   "metadata": {},
   "source": [
    "#### **3. Как изменится оптимальный план, если мощность фильтра ограничена величиной 10 тыс. тонн?**"
   ]
  },
  {
   "cell_type": "markdown",
   "metadata": {},
   "source": [
    "#### Запишем математическую модель:"
   ]
  },
  {
   "cell_type": "markdown",
   "metadata": {},
   "source": [
    "Введём переменные:\n",
    "\n",
    "$II$ - продано тонн продукта II  \n",
    "$I_в$ - продано тонн продукта I по завышенной цене  \n",
    "$I_{ср}$ - продано тонн продукта I по обычной цене  \n",
    "$I_н$ - продано тонн продукта I по заниженной цене  \n",
    "$a$ - поставлено тонн руды А за день  \n",
    "$b$ - оставлено тонн руды В за день  \n",
    "$II_{кон}$ - отправлено тонн продукта II на конвейер  \n",
    "$I_{доп}$ - докупили продукта I для контракта  \n",
    "$II_{доп}$ - докупили продукта II для контракта    \n",
    "\n",
    "Целевая функция:\n",
    "\n",
    "$$(II * 3.8 + I_в * 5.5 + I_{ср} * 5.2 + I_н * 5) - (a * 3.25 + b * 3.4 + 0.35 * (a + b) + II_{кон} * 0.25 + 0.1 * 0.25 * b + 0.15 * (0.5 * II_{кон} + 0.25 * b) + I_{доп} * 5.75 + II_{доп} * 4) \\to \\max$$\n",
    "\n",
    "Ограничения:\n",
    "\n",
    "$$a + b \\leq 100000$$\n",
    "$$II_{кон} \\leq 50000$$\n",
    "$$I_в + I_{ср} + I_н \\geq 40000$$\n",
    "$$I_в + I_{ср} + I_н = 0.15 * a + 0.25 * b + 0.5 * II_{кон} + I_{доп}$$\n",
    "$$II = 0.85 * a + 0.75 * b - 0.5 * II_{кон} + II_{доп}$$\n",
    "$$b * 0.25 \\leq 10000$$"
   ]
  },
  {
   "cell_type": "code",
   "execution_count": 87,
   "metadata": {},
   "outputs": [],
   "source": [
    "third_problem = gb.Model('third_problem')"
   ]
  },
  {
   "cell_type": "code",
   "execution_count": 88,
   "metadata": {},
   "outputs": [],
   "source": [
    "II = third_problem.addVar(vtype=gb.GRB.INTEGER, lb=0.0, ub=gb.GRB.INFINITY, name='II')\n",
    "I_h = third_problem.addVar(vtype=gb.GRB.INTEGER, lb=0.0, ub=45000, name='I_h')\n",
    "I_m = third_problem.addVar(vtype=gb.GRB.INTEGER, lb=0.0, ub=4000, name='I_m')\n",
    "I_l = third_problem.addVar(vtype=gb.GRB.INTEGER, lb=0.0, ub=gb.GRB.INFINITY, name='I_l')\n",
    "a = third_problem.addVar(vtype=gb.GRB.INTEGER, lb=0.0, ub=100000, name='a')\n",
    "b = third_problem.addVar(vtype=gb.GRB.INTEGER, lb=0.0, ub=30000, name='b')\n",
    "II_con = third_problem.addVar(vtype=gb.GRB.INTEGER, lb=0.0, ub=50000, name='II_con')\n",
    "I_ex = third_problem.addVar(vtype=gb.GRB.INTEGER, lb=0.0, ub=gb.GRB.INFINITY, name='I_ex')\n",
    "II_ex = third_problem.addVar(vtype=gb.GRB.INTEGER, lb=0.0, ub=gb.GRB.INFINITY, name='II_ex')"
   ]
  },
  {
   "cell_type": "code",
   "execution_count": 89,
   "metadata": {},
   "outputs": [],
   "source": [
    "obj = II * 3.8 + I_h * 5.5 + I_m * 5.2 + I_l * 5\n",
    "obj -= a * 3.25 + b * 3.4 + 0.35 * (a + b) + II_con * 0.25 + 0.1 * 0.25 * b + 0.15 * (0.5 * II_con + 0.25 * b) + I_ex * 5.75 + II_ex * 4\n",
    "third_problem.setObjective(obj, gb.GRB.MAXIMIZE)"
   ]
  },
  {
   "cell_type": "code",
   "execution_count": 90,
   "metadata": {},
   "outputs": [],
   "source": [
    "third_problem.addConstr(a + b <= 100000)\n",
    "third_problem.addConstr(II_con <= 50000)\n",
    "third_problem.addConstr(I_h + I_m + I_l >= 40000)\n",
    "third_problem.addConstr(I_h + I_m + I_l == 0.15 * a + 0.25 * b + 0.5 * II_con + I_ex)\n",
    "third_problem.addConstr(II == 0.85 * a + 0.75 * b - 0.5 * II_con + II_ex)\n",
    "third_problem.addConstr(b * 0.25 <= 10000)\n",
    "\n",
    "third_problem.update()"
   ]
  },
  {
   "cell_type": "code",
   "execution_count": 91,
   "metadata": {},
   "outputs": [
    {
     "name": "stdout",
     "output_type": "stream",
     "text": [
      "Gurobi Optimizer version 10.0.0 build v10.0.0rc2 (mac64[x86])\n",
      "\n",
      "CPU model: Intel(R) Core(TM) i5-4278U CPU @ 2.60GHz\n",
      "Thread count: 2 physical cores, 4 logical processors, using up to 4 threads\n",
      "\n",
      "Optimize a model with 6 rows, 9 columns and 19 nonzeros\n",
      "Model fingerprint: 0x2c1a4899\n",
      "Variable types: 0 continuous, 9 integer (0 binary)\n",
      "Coefficient statistics:\n",
      "  Matrix range     [1e-01, 1e+00]\n",
      "  Objective range  [3e-01, 6e+00]\n",
      "  Bounds range     [4e+03, 1e+05]\n",
      "  RHS range        [1e+04, 1e+05]\n",
      "Presolve removed 2 rows and 0 columns\n",
      "Presolve time: 0.00s\n",
      "Presolved: 4 rows, 9 columns, 17 nonzeros\n",
      "Variable types: 0 continuous, 9 integer (0 binary)\n",
      "Found heuristic solution: objective -13449.75000\n",
      "Found heuristic solution: objective 32800.250000\n",
      "\n",
      "Root relaxation: objective 7.175000e+04, 4 iterations, 0.00 seconds (0.00 work units)\n",
      "\n",
      "    Nodes    |    Current Node    |     Objective Bounds      |     Work\n",
      " Expl Unexpl |  Obj  Depth IntInf | Incumbent    BestBd   Gap | It/Node Time\n",
      "\n",
      "*    0     0               0    71750.000000 71750.0000  0.00%     -    0s\n",
      "\n",
      "Explored 1 nodes (4 simplex iterations) in 0.07 seconds (0.00 work units)\n",
      "Thread count was 4 (of 4 available processors)\n",
      "\n",
      "Solution count 3: 71750 32800.2 -13449.8 \n",
      "\n",
      "Optimal solution found (tolerance 1.00e-04)\n",
      "Best objective 7.175000000000e+04, best bound 7.175000000000e+04, gap 0.0000%\n"
     ]
    }
   ],
   "source": [
    "third_problem.optimize()"
   ]
  },
  {
   "cell_type": "code",
   "execution_count": 92,
   "metadata": {},
   "outputs": [
    {
     "name": "stdout",
     "output_type": "stream",
     "text": [
      "Поставлено 100000.0 тонн руды A\n",
      "Поставлено 0.0 тонн руды B\n",
      "Ha конвейер отправлено 50000.0 тонн продукта II\n",
      "Продано 40000.0 тонн продукта I по завышенной цене\n",
      "Продано -0.0 тонн продукта I по обычной цене\n",
      "Продано -0.0 тонн продукта I по заниженной цене\n",
      "Продано 60000.0 тонн продукта II\n",
      "Докупили -0.0 продукта I для контракта\n",
      "Докупили -0.0 продукта II для контракта\n",
      "\n",
      "Итоговая прибыль составила 71750.0\n"
     ]
    }
   ],
   "source": [
    "if third_problem.status == gb.GRB.OPTIMAL:\n",
    "    print(f\"Поставлено {a.x} тонн руды A\\n\\\n",
    "Поставлено {b.x} тонн руды B\\n\\\n",
    "Ha конвейер отправлено {II_con.x} тонн продукта II\\n\\\n",
    "Продано {I_h.x} тонн продукта I по завышенной цене\\n\\\n",
    "Продано {I_m.x} тонн продукта I по обычной цене\\n\\\n",
    "Продано {I_l.x} тонн продукта I по заниженной цене\\n\\\n",
    "Продано {II.x} тонн продукта II\\n\\\n",
    "Докупили {I_ex.x} продукта I для контракта\\n\\\n",
    "Докупили {II_ex.x} продукта II для контракта\\n\\n\\\n",
    "Итоговая прибыль составила {third_problem.objVal}\")\n",
    "else:\n",
    "    print('Оптимального решения нет.')"
   ]
  }
 ],
 "metadata": {
  "kernelspec": {
   "display_name": "Python 3.10.2 64-bit",
   "language": "python",
   "name": "python3"
  },
  "language_info": {
   "codemirror_mode": {
    "name": "ipython",
    "version": 3
   },
   "file_extension": ".py",
   "mimetype": "text/x-python",
   "name": "python",
   "nbconvert_exporter": "python",
   "pygments_lexer": "ipython3",
   "version": "3.10.2"
  },
  "orig_nbformat": 4,
  "vscode": {
   "interpreter": {
    "hash": "aee8b7b246df8f9039afb4144a1f6fd8d2ca17a180786b69acc140d282b71a49"
   }
  }
 },
 "nbformat": 4,
 "nbformat_minor": 2
}
