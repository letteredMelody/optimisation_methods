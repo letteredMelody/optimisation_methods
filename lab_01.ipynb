{
 "cells": [
  {
   "cell_type": "markdown",
   "metadata": {},
   "source": [
    "## **Распределительная задача**"
   ]
  },
  {
   "cell_type": "markdown",
   "metadata": {},
   "source": [
    "Завод может производить Y = 25 видов продукции. На продукцию есть покупатель, которому требуется определенное количество каждого вида:\n",
    "\n",
    "Таблица M (кг): M = [52 37 65 64 66 66 62 49 33 54 49 67 60 68 69 35 45 53 62 40 32 54 64 60 47]\n",
    "\n",
    "Для каждого вида продукции он либо покупает требуемое количество, либо не покупает совсем, если мы произвели недостаточно. При этом известна цена контракта на каждый вид продукции:\n",
    "\n",
    "Таблица C (рубли): C = [656 672 675 665 512 620 451 538 523 670 591 421 574 531 608 454 471 414 605 543 612 514 638 444 437]\n",
    "\n",
    "Завод одновременно может выпускать только один вид продукции со скоростью:\n",
    "\n",
    "Таблица P (кг в сутки): P = [19 15 27 19 29 16 22 18 16 27 21 21 24 25 28 21 24 21 15 15 17 29 27 24 21]\n",
    "\n",
    "Требуется написать математическую модель и найти оптимальный план производства на S = 20 суток с помощью Gurobi, если известно, что переход от одной продукции к другой происходит мгновенно, а его стоимость R = 49 рублей.\n"
   ]
  },
  {
   "cell_type": "markdown",
   "metadata": {},
   "source": [
    "#### Запишем математическую модель:"
   ]
  },
  {
   "cell_type": "markdown",
   "metadata": {},
   "source": [
    "Введём переменные:\n",
    "\n",
    "$$x_{i} = \\begin{cases}\n",
    "   1,&\\text{если заключаем контракт с } i &\\text{заводом,}\\\\\n",
    "   0,&\\text{в противном случае.}\n",
    "\\end{cases}$$\n",
    "\n",
    "Целевая функция:\n",
    "\n",
    "$$\\sum\\limits_{i = 0}^{Y} (c_i - R)x_i + R\\to \\max_{x}$$\n",
    "\n",
    "Ограничения:\n",
    "\n",
    "$$x_i \\in \\mathbb B, \\forall i \\in Y $$\n",
    "\n",
    "$$\\sum\\limits_{i = 0}^{Y} x_i \\lceil m_i/p_i \\rceil \\leqslant S $$"
   ]
  },
  {
   "cell_type": "code",
   "execution_count": 13,
   "metadata": {},
   "outputs": [],
   "source": [
    "import pulp\n",
    "import numpy as np"
   ]
  },
  {
   "cell_type": "code",
   "execution_count": 14,
   "metadata": {},
   "outputs": [],
   "source": [
    "Y = 25\n",
    "S = 20\n",
    "R = 49\n",
    "\n",
    "M = [52, 37, 65, 64, 66, 66, 62, 49, 33, 54, 49, 67, 60, 68, 69, 35, 45, 53, 62, 40, 32, 54, 64, 60, 47]\n",
    "C = [656, 672, 675, 665, 512, 620, 451, 538, 523, 670, 591, 421, 574, 531, 608, 454, 471, 414, 605, 543, 612, 514, 638, 444, 437]\n",
    "P = [19, 15, 27, 19, 29, 16, 22, 18, 16, 27, 21, 21, 24, 25, 28, 21, 24, 21, 15, 15, 17, 29, 27, 24, 21]"
   ]
  },
  {
   "cell_type": "code",
   "execution_count": 15,
   "metadata": {},
   "outputs": [],
   "source": [
    "production_types = range(0, Y)"
   ]
  },
  {
   "cell_type": "code",
   "execution_count": 16,
   "metadata": {},
   "outputs": [],
   "source": [
    "problem = pulp.LpProblem('Distribution_problem', pulp.LpMaximize)\n",
    "\n",
    "factory_level_vars = pulp.LpVariable.dicts('factories_included', production_types, cat='Binary')\n",
    "problem += pulp.lpSum([(C[i]- R) * factory_level_vars[i] for i in range(Y)]) + R, 'Total amount of money'\n",
    "\n",
    "for i in production_types:\n",
    "    problem += pulp.lpSum([factory_level_vars[i] * np.ceil(M[i] / P[i])]) <= S, 'Maximum amount of days ' + str(i)"
   ]
  },
  {
   "cell_type": "code",
   "execution_count": 20,
   "metadata": {},
   "outputs": [
    {
     "name": "stdout",
     "output_type": "stream",
     "text": [
      "Welcome to the CBC MILP Solver \n",
      "Version: 2.10.3 \n",
      "Build Date: Dec 15 2019 \n",
      "\n",
      "command line - /Library/Frameworks/Python.framework/Versions/3.10/lib/python3.10/site-packages/pulp/solverdir/cbc/osx/64/cbc /var/folders/qx/sdp1h2j15vzbw5kkm3jc_1_m0000gq/T/db738556e9c54eb3ae744eadc07aabfa-pulp.mps max timeMode elapsed branch printingOptions all solution /var/folders/qx/sdp1h2j15vzbw5kkm3jc_1_m0000gq/T/db738556e9c54eb3ae744eadc07aabfa-pulp.sol (default strategy 1)\n",
      "At line 2 NAME          MODEL\n",
      "At line 3 ROWS\n",
      "At line 30 COLUMNS\n",
      "At line 131 RHS\n",
      "At line 157 BOUNDS\n",
      "At line 183 ENDATA\n",
      "Problem MODEL has 25 rows, 25 columns and 25 elements\n",
      "Coin0008I MODEL read with 0 errors\n",
      "Option for timeMode changed from cpu to elapsed\n",
      "Continuous objective value is 12614 - 0.00 seconds\n",
      "Cgl0004I processed model has 0 rows, 0 columns (0 integer (0 of which binary)) and 0 elements\n",
      "Cbc3007W No integer variables - nothing to do\n",
      "Cuts at root node changed objective from -12614 to -1.79769e+308\n",
      "Probing was tried 0 times and created 0 cuts of which 0 were active after adding rounds of cuts (0.000 seconds)\n",
      "Gomory was tried 0 times and created 0 cuts of which 0 were active after adding rounds of cuts (0.000 seconds)\n",
      "Knapsack was tried 0 times and created 0 cuts of which 0 were active after adding rounds of cuts (0.000 seconds)\n",
      "Clique was tried 0 times and created 0 cuts of which 0 were active after adding rounds of cuts (0.000 seconds)\n",
      "MixedIntegerRounding2 was tried 0 times and created 0 cuts of which 0 were active after adding rounds of cuts (0.000 seconds)\n",
      "FlowCover was tried 0 times and created 0 cuts of which 0 were active after adding rounds of cuts (0.000 seconds)\n",
      "TwoMirCuts was tried 0 times and created 0 cuts of which 0 were active after adding rounds of cuts (0.000 seconds)\n",
      "ZeroHalf was tried 0 times and created 0 cuts of which 0 were active after adding rounds of cuts (0.000 seconds)\n",
      "\n",
      "Result - Optimal solution found\n",
      "\n",
      "Objective value:                12614.00000000\n",
      "Enumerated nodes:               0\n",
      "Total iterations:               0\n",
      "Time (CPU seconds):             0.00\n",
      "Time (Wallclock seconds):       0.04\n",
      "\n",
      "Option for printingOptions changed from normal to all\n",
      "Total time (CPU seconds):       0.01   (Wallclock seconds):       0.08\n",
      "\n",
      "Optimal\n",
      "factories_included_0 = 1.0\n",
      "factories_included_1 = 1.0\n",
      "factories_included_10 = 1.0\n",
      "factories_included_11 = 1.0\n",
      "factories_included_12 = 1.0\n",
      "factories_included_13 = 1.0\n",
      "factories_included_14 = 1.0\n",
      "factories_included_15 = 1.0\n",
      "factories_included_16 = 1.0\n",
      "factories_included_17 = 1.0\n",
      "factories_included_18 = 1.0\n",
      "factories_included_19 = 1.0\n",
      "factories_included_2 = 1.0\n",
      "factories_included_20 = 1.0\n",
      "factories_included_21 = 1.0\n",
      "factories_included_22 = 1.0\n",
      "factories_included_23 = 1.0\n",
      "factories_included_24 = 1.0\n",
      "factories_included_3 = 1.0\n",
      "factories_included_4 = 1.0\n",
      "factories_included_5 = 1.0\n",
      "factories_included_6 = 1.0\n",
      "factories_included_7 = 1.0\n",
      "factories_included_8 = 1.0\n",
      "factories_included_9 = 1.0\n",
      "Общая стоимость = 12663.0\n"
     ]
    }
   ],
   "source": [
    "status = problem.solve()\n",
    "print(pulp.LpStatus[status])\n",
    "\n",
    "for v in problem.variables():\n",
    "    print(f'{v.name} = {v.varValue}')\n",
    "\n",
    "print(f'Общая стоимость = {pulp.value(problem.objective)}')"
   ]
  }
 ],
 "metadata": {
  "kernelspec": {
   "display_name": "Python 3.10.2 64-bit",
   "language": "python",
   "name": "python3"
  },
  "language_info": {
   "codemirror_mode": {
    "name": "ipython",
    "version": 3
   },
   "file_extension": ".py",
   "mimetype": "text/x-python",
   "name": "python",
   "nbconvert_exporter": "python",
   "pygments_lexer": "ipython3",
   "version": "3.10.2"
  },
  "orig_nbformat": 4,
  "vscode": {
   "interpreter": {
    "hash": "aee8b7b246df8f9039afb4144a1f6fd8d2ca17a180786b69acc140d282b71a49"
   }
  }
 },
 "nbformat": 4,
 "nbformat_minor": 2
}
